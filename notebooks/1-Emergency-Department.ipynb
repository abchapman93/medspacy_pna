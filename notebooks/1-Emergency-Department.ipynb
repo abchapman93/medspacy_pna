{
 "cells": [
  {
   "cell_type": "code",
   "execution_count": 1,
   "id": "0f8b7c9a",
   "metadata": {},
   "outputs": [],
   "source": [
    "%load_ext autoreload\n",
    "%autoreload 2"
   ]
  },
  {
   "cell_type": "code",
   "execution_count": 2,
   "id": "9f31d8bb",
   "metadata": {},
   "outputs": [],
   "source": [
    "import os, sys\n",
    "sys.path.append(\"..\")"
   ]
  },
  {
   "cell_type": "markdown",
   "id": "f375bc3e",
   "metadata": {},
   "source": [
    "# Emergency Department Notes\n",
    "## Overview\n",
    "When a patient visits the emergency department (ED), the physician may need to make a quick diagnostic decision with little information. If the provider suspects pneumonia, they will document this and other possible diagnoses in the note. By the end of the encounter, they may have a clear diagnosis or may still be uncertain.\n",
    "\n",
    "The goal of the emergency pipeline is to capture suspected or definitive diagnostic assertions of pneumonia in emergency notes.\n",
    "\n",
    "While pneumonia may be mentioned throughout the note, we need to limit the classification logic to look at certain sections of the note which are most meaningful for a diagnosis. Additionally, some mentions of pneumonia may be negated and should indicate a negative diagnosis.\n",
    "\n",
    "The diagram below walks through the logic used for classifying emergency notes:\n",
    "![Emergency classification](./Emergency.png)"
   ]
  },
  {
   "cell_type": "markdown",
   "id": "220dfe32",
   "metadata": {},
   "source": [
    "In words:\n",
    "- First, the system looks for ***Tier 1*** sections such as **\"Assessment/Plan\"** and **\"Diagnoses\"** sections. These represent the final diagnosis of the physician. If either of these contain a positive or negative mention of pneumonia, the NLP makes the appropriate classification.\n",
    "- If those sections aren't in the note or don't contain pneumonia, the NLP looks for ***Tier 2*** sections such as **\"Medical Decision Making\"** or **\"ED Course\"** sections. These will document possible diagnoses that the provider is considering. If no mentions of pneumonia are found, then the document is classified as **\"Negative\"**.\n",
    "- However, if a positive mention is found, it may only have been documented as a potential diagnosis that the provider considered but ultimately ruled out. To account for this, the NLP next looks for mentions of negative radiographic findings in any of the sections mentioned already. For example, if the MDM says that pneumonia is a possible diagnosis but later says that there was a negative X-Ray and pneumonia isn't mentioned anywhere else in the note, this will be considered **\"Negative\"**. If there are no such negative findings, the document is classified as **\"Possible\"/\"Positive\"**\n",
    "\n",
    "The rest of this notebook will walk through some specific examples."
   ]
  },
  {
   "cell_type": "code",
   "execution_count": 3,
   "id": "e8a4b18b",
   "metadata": {},
   "outputs": [],
   "source": [
    "from medspacy_pna import build_nlp\n",
    "from medspacy_pna.display import create_html\n",
    "from medspacy.visualization import visualize_ent\n",
    "from IPython.display import HTML"
   ]
  },
  {
   "cell_type": "code",
   "execution_count": 4,
   "id": "bf344ab3",
   "metadata": {},
   "outputs": [],
   "source": [
    "%%capture\n",
    "nlp_emergency = build_nlp(\"emergency\")"
   ]
  },
  {
   "cell_type": "code",
   "execution_count": 5,
   "id": "79770912",
   "metadata": {},
   "outputs": [],
   "source": [
    "clf = nlp_emergency.get_pipe(\"pneumonia_emergencydocumentclassifier\")"
   ]
  },
  {
   "cell_type": "code",
   "execution_count": 6,
   "id": "5e77d198",
   "metadata": {},
   "outputs": [
    {
     "data": {
      "text/plain": [
       "{'TIER_1': {'addendum',\n",
       "  'diagnoses',\n",
       "  'discharge_diagnoses',\n",
       "  'impression',\n",
       "  'observation_and_plan'},\n",
       " 'TIER_2': {'admission_diagnoses',\n",
       "  'ed_course',\n",
       "  'hospital_course',\n",
       "  'medical_decision_making'}}"
      ]
     },
     "execution_count": 6,
     "metadata": {},
     "output_type": "execute_result"
    }
   ],
   "source": [
    "# Sections used for classification\n",
    "from medspacy_pna.document_classification.emergency_document_classifier import RELEVANT_SECTIONS\n",
    "RELEVANT_SECTIONS"
   ]
  },
  {
   "cell_type": "code",
   "execution_count": 7,
   "id": "ea733e59",
   "metadata": {},
   "outputs": [
    {
     "data": {
      "text/plain": [
       "['tok2vec',\n",
       " 'tagger',\n",
       " 'parser',\n",
       " 'medspacy_concept_tagger',\n",
       " 'medspacy_target_matcher',\n",
       " 'medspacy_context',\n",
       " 'medspacy_sectionizer',\n",
       " 'medspacy_postprocessor',\n",
       " 'pneumonia_emergencydocumentclassifier']"
      ]
     },
     "execution_count": 7,
     "metadata": {},
     "output_type": "execute_result"
    }
   ],
   "source": [
    "nlp_emergency.pipe_names"
   ]
  },
  {
   "cell_type": "markdown",
   "id": "1210c570",
   "metadata": {},
   "source": [
    "## Example 1: Positive in Asssessment/Plan and Diagnoses"
   ]
  },
  {
   "cell_type": "code",
   "execution_count": 8,
   "id": "e7cc9dfd",
   "metadata": {},
   "outputs": [],
   "source": [
    "text = \"\"\"\n",
    "Hospital Course: The patient presents with a cough and fever.\n",
    "A chest x-ray was positive for opacities. \n",
    "\n",
    "Final Diagnosis: Pneumonia.\n",
    "\"\"\"\n",
    "doc = nlp_emergency(text)"
   ]
  },
  {
   "cell_type": "code",
   "execution_count": 9,
   "id": "69a76986",
   "metadata": {},
   "outputs": [
    {
     "data": {
      "text/html": [
       "<h1>Legend</h1>\n",
       "<mark class=\"entity\" style=\"background: #ff8c8c; padding: 0.25em 0.6em; margin: 0 0.25em; line-height: 1.5; border-radius: 0.35em;\">\n",
       "    \n",
       "<span style=\"font-size: 1.0em; font-weight: bold; line-height: 2.5; border-radius: 0.35em; vertical-align: middle; margin-left: 0.5rem\">Pneumonia</span>\n",
       "</mark>\n",
       "\n",
       "<mark class=\"entity\" style=\"background: #e3dede; padding: 0.25em 0.6em; margin: 0 0.25em; line-height: 1.5; border-radius: 0.35em;\">\n",
       "    \n",
       "<span style=\"font-size: 1.0em; font-weight: bold; line-height: 2.5; border-radius: 0.35em; vertical-align: middle; margin-left: 0.5rem\">Assertion Modifier</span>\n",
       "</mark>\n",
       "\n",
       "<mark class=\"entity\" style=\"background: #96eaf2; padding: 0.25em 0.6em; margin: 0 0.25em; line-height: 1.5; border-radius: 0.35em;\">\n",
       "    \n",
       "<span style=\"font-size: 1.0em; font-weight: bold; line-height: 2.5; border-radius: 0.35em; vertical-align: middle; margin-left: 0.5rem\">Primary Section Title</span>\n",
       "</mark>\n",
       "\n",
       "<mark class=\"entity\" style=\"background: #c8fae4; padding: 0.25em 0.6em; margin: 0 0.25em; line-height: 1.5; border-radius: 0.35em;\">\n",
       "    \n",
       "<span style=\"font-size: 1.0em; font-weight: bold; line-height: 2.5; border-radius: 0.35em; vertical-align: middle; margin-left: 0.5rem\">Other Section Title</span>\n",
       "</mark>\n",
       "</br><h1>Emergency Note</h1><h2>NLP Document Classification: POS</h2><div class=\"entities\" style=\"line-height: 1.25; direction: ltr\">\n",
       "<mark class=\"entity\" style=\"background: #96eaf2; padding: 0.25em 0.6em; margin: 0 0.25em; line-height: 1.5; border-radius: 0.35em;\">\n",
       "    \n",
       "Hospital Course\n",
       "    <span style=\"font-size: 0.8em; font-weight: bold; line-height: 2.5; border-radius: 0.35em; vertical-align: middle; margin-left: 0.5rem\"><< HOSPITAL_COURSE >></span>\n",
       "</mark>\n",
       ": The patient presents with a cough and fever.</br>A chest x-ray was positive for \n",
       "<mark class=\"entity\" style=\"background: #ff8c8c; padding: 0.25em 0.6em; margin: 0 0.25em; line-height: 1.5; border-radius: 0.35em;\">\n",
       "    opacities\n",
       "    <span style=\"font-size: 0.8em; font-weight: bold; line-height: 2.5; border-radius: 0.35em; vertical-align: middle; margin-left: 0.5rem\">OPACITY</span>\n",
       "</mark>\n",
       ". </br></br>\n",
       "<mark class=\"entity\" style=\"background: #96eaf2; padding: 0.25em 0.6em; margin: 0 0.25em; line-height: 1.5; border-radius: 0.35em;\">\n",
       "    Final Diagnosis:\n",
       "    <span style=\"font-size: 0.8em; font-weight: bold; line-height: 2.5; border-radius: 0.35em; vertical-align: middle; margin-left: 0.5rem\"><< DISCHARGE_DIAGNOSES >></span>\n",
       "</mark>\n",
       " \n",
       "<mark class=\"entity\" style=\"background: #ff8c8c; padding: 0.25em 0.6em; margin: 0 0.25em; line-height: 1.5; border-radius: 0.35em;\">\n",
       "    Pneumonia\n",
       "    <span style=\"font-size: 0.8em; font-weight: bold; line-height: 2.5; border-radius: 0.35em; vertical-align: middle; margin-left: 0.5rem\">PNEUMONIA</span>\n",
       "</mark>\n",
       ".</br></div>"
      ],
      "text/plain": [
       "<IPython.core.display.HTML object>"
      ]
     },
     "execution_count": 9,
     "metadata": {},
     "output_type": "execute_result"
    }
   ],
   "source": [
    "HTML(create_html(doc, \"emergency\", document_classification=True))"
   ]
  },
  {
   "cell_type": "code",
   "execution_count": 10,
   "id": "fa97a2bd",
   "metadata": {},
   "outputs": [
    {
     "name": "stdout",
     "output_type": "stream",
     "text": [
      "opacities OPACITY hospital_course\n",
      "Pneumonia PNEUMONIA discharge_diagnoses\n"
     ]
    }
   ],
   "source": [
    "for ent in doc.ents:\n",
    "    print(ent, ent.label_, ent._.section_category)"
   ]
  },
  {
   "cell_type": "code",
   "execution_count": 11,
   "id": "e624152b",
   "metadata": {},
   "outputs": [
    {
     "name": "stdout",
     "output_type": "stream",
     "text": [
      "POS\n"
     ]
    }
   ],
   "source": [
    "print(doc._.document_classification)"
   ]
  },
  {
   "cell_type": "markdown",
   "id": "5ecc1a14",
   "metadata": {},
   "source": [
    "## Example 2: Negative pneumonia"
   ]
  },
  {
   "cell_type": "code",
   "execution_count": 12,
   "id": "2878cbd9",
   "metadata": {},
   "outputs": [],
   "source": [
    "text = \"\"\"\n",
    "Hospital Course: The patient presents with a cough and fever.\n",
    "A chest x-ray was negative for opacities. \n",
    "\n",
    "Assessment/Plan: No pneumonia. Admit for further monitoring.\n",
    "\"\"\"\n",
    "doc = nlp_emergency(text)"
   ]
  },
  {
   "cell_type": "code",
   "execution_count": 13,
   "id": "ba8cd8d1",
   "metadata": {},
   "outputs": [
    {
     "data": {
      "text/html": [
       "<h1>Legend</h1>\n",
       "<mark class=\"entity\" style=\"background: #ff8c8c; padding: 0.25em 0.6em; margin: 0 0.25em; line-height: 1.5; border-radius: 0.35em;\">\n",
       "    \n",
       "<span style=\"font-size: 1.0em; font-weight: bold; line-height: 2.5; border-radius: 0.35em; vertical-align: middle; margin-left: 0.5rem\">Pneumonia</span>\n",
       "</mark>\n",
       "\n",
       "<mark class=\"entity\" style=\"background: #e3dede; padding: 0.25em 0.6em; margin: 0 0.25em; line-height: 1.5; border-radius: 0.35em;\">\n",
       "    \n",
       "<span style=\"font-size: 1.0em; font-weight: bold; line-height: 2.5; border-radius: 0.35em; vertical-align: middle; margin-left: 0.5rem\">Assertion Modifier</span>\n",
       "</mark>\n",
       "\n",
       "<mark class=\"entity\" style=\"background: #96eaf2; padding: 0.25em 0.6em; margin: 0 0.25em; line-height: 1.5; border-radius: 0.35em;\">\n",
       "    \n",
       "<span style=\"font-size: 1.0em; font-weight: bold; line-height: 2.5; border-radius: 0.35em; vertical-align: middle; margin-left: 0.5rem\">Primary Section Title</span>\n",
       "</mark>\n",
       "\n",
       "<mark class=\"entity\" style=\"background: #c8fae4; padding: 0.25em 0.6em; margin: 0 0.25em; line-height: 1.5; border-radius: 0.35em;\">\n",
       "    \n",
       "<span style=\"font-size: 1.0em; font-weight: bold; line-height: 2.5; border-radius: 0.35em; vertical-align: middle; margin-left: 0.5rem\">Other Section Title</span>\n",
       "</mark>\n",
       "</br><h1>Emergency Note</h1><h2>NLP Document Classification: NEG</h2><div class=\"entities\" style=\"line-height: 1.25; direction: ltr\">\n",
       "<mark class=\"entity\" style=\"background: #96eaf2; padding: 0.25em 0.6em; margin: 0 0.25em; line-height: 1.5; border-radius: 0.35em;\">\n",
       "    \n",
       "Hospital Course\n",
       "    <span style=\"font-size: 0.8em; font-weight: bold; line-height: 2.5; border-radius: 0.35em; vertical-align: middle; margin-left: 0.5rem\"><< HOSPITAL_COURSE >></span>\n",
       "</mark>\n",
       ": The patient presents with a cough and fever.</br>A chest x-ray \n",
       "<mark class=\"entity\" style=\"background: #e3dede; padding: 0.25em 0.6em; margin: 0 0.25em; line-height: 1.5; border-radius: 0.35em;\">\n",
       "    was negative for\n",
       "    <span style=\"font-size: 0.8em; font-weight: bold; line-height: 2.5; border-radius: 0.35em; vertical-align: middle; margin-left: 0.5rem\">NEGATED_EXISTENCE</span>\n",
       "</mark>\n",
       " \n",
       "<mark class=\"entity\" style=\"background: #ff8c8c; padding: 0.25em 0.6em; margin: 0 0.25em; line-height: 1.5; border-radius: 0.35em;\">\n",
       "    opacities\n",
       "    <span style=\"font-size: 0.8em; font-weight: bold; line-height: 2.5; border-radius: 0.35em; vertical-align: middle; margin-left: 0.5rem\">OPACITY</span>\n",
       "</mark>\n",
       ". </br></br>\n",
       "<mark class=\"entity\" style=\"background: #96eaf2; padding: 0.25em 0.6em; margin: 0 0.25em; line-height: 1.5; border-radius: 0.35em;\">\n",
       "    Assessment/Plan:\n",
       "    <span style=\"font-size: 0.8em; font-weight: bold; line-height: 2.5; border-radius: 0.35em; vertical-align: middle; margin-left: 0.5rem\"><< OBSERVATION_AND_PLAN >></span>\n",
       "</mark>\n",
       " \n",
       "<mark class=\"entity\" style=\"background: #e3dede; padding: 0.25em 0.6em; margin: 0 0.25em; line-height: 1.5; border-radius: 0.35em;\">\n",
       "    No\n",
       "    <span style=\"font-size: 0.8em; font-weight: bold; line-height: 2.5; border-radius: 0.35em; vertical-align: middle; margin-left: 0.5rem\">NEGATED_EXISTENCE</span>\n",
       "</mark>\n",
       " \n",
       "<mark class=\"entity\" style=\"background: #ff8c8c; padding: 0.25em 0.6em; margin: 0 0.25em; line-height: 1.5; border-radius: 0.35em;\">\n",
       "    pneumonia\n",
       "    <span style=\"font-size: 0.8em; font-weight: bold; line-height: 2.5; border-radius: 0.35em; vertical-align: middle; margin-left: 0.5rem\">PNEUMONIA</span>\n",
       "</mark>\n",
       ". Admit for further monitoring.</br></div>"
      ],
      "text/plain": [
       "<IPython.core.display.HTML object>"
      ]
     },
     "execution_count": 13,
     "metadata": {},
     "output_type": "execute_result"
    }
   ],
   "source": [
    "HTML(create_html(doc, \"emergency\", document_classification=True))"
   ]
  },
  {
   "cell_type": "code",
   "execution_count": 14,
   "id": "0d5a3267",
   "metadata": {},
   "outputs": [
    {
     "name": "stdout",
     "output_type": "stream",
     "text": [
      "opacities OPACITY hospital_course\n",
      "pneumonia PNEUMONIA observation_and_plan\n"
     ]
    }
   ],
   "source": [
    "for ent in doc.ents:\n",
    "    print(ent, ent.label_, ent._.section_category)"
   ]
  },
  {
   "cell_type": "code",
   "execution_count": 15,
   "id": "54e79698",
   "metadata": {},
   "outputs": [
    {
     "name": "stdout",
     "output_type": "stream",
     "text": [
      "NEG\n"
     ]
    }
   ],
   "source": [
    "print(doc._.document_classification)"
   ]
  },
  {
   "cell_type": "code",
   "execution_count": null,
   "id": "c306106b",
   "metadata": {},
   "outputs": [],
   "source": []
  },
  {
   "cell_type": "markdown",
   "id": "62265727",
   "metadata": {},
   "source": [
    "## Example 3: Possible in MDM"
   ]
  },
  {
   "cell_type": "code",
   "execution_count": 16,
   "id": "77a284f5",
   "metadata": {},
   "outputs": [],
   "source": [
    "text = \"\"\"\n",
    "Hospital Course: The patient presents with a cough and fever.\n",
    "A chest x-ray was positive for opacities. \n",
    "\n",
    "Medical decision making: Possible differential dx include pneumonia, atelectasis, and CHF.\n",
    "\n",
    "\"\"\"\n",
    "doc = nlp_emergency(text)"
   ]
  },
  {
   "cell_type": "code",
   "execution_count": 17,
   "id": "baffc8e2",
   "metadata": {},
   "outputs": [
    {
     "data": {
      "text/html": [
       "<h1>Legend</h1>\n",
       "<mark class=\"entity\" style=\"background: #ff8c8c; padding: 0.25em 0.6em; margin: 0 0.25em; line-height: 1.5; border-radius: 0.35em;\">\n",
       "    \n",
       "<span style=\"font-size: 1.0em; font-weight: bold; line-height: 2.5; border-radius: 0.35em; vertical-align: middle; margin-left: 0.5rem\">Pneumonia</span>\n",
       "</mark>\n",
       "\n",
       "<mark class=\"entity\" style=\"background: #e3dede; padding: 0.25em 0.6em; margin: 0 0.25em; line-height: 1.5; border-radius: 0.35em;\">\n",
       "    \n",
       "<span style=\"font-size: 1.0em; font-weight: bold; line-height: 2.5; border-radius: 0.35em; vertical-align: middle; margin-left: 0.5rem\">Assertion Modifier</span>\n",
       "</mark>\n",
       "\n",
       "<mark class=\"entity\" style=\"background: #96eaf2; padding: 0.25em 0.6em; margin: 0 0.25em; line-height: 1.5; border-radius: 0.35em;\">\n",
       "    \n",
       "<span style=\"font-size: 1.0em; font-weight: bold; line-height: 2.5; border-radius: 0.35em; vertical-align: middle; margin-left: 0.5rem\">Primary Section Title</span>\n",
       "</mark>\n",
       "\n",
       "<mark class=\"entity\" style=\"background: #c8fae4; padding: 0.25em 0.6em; margin: 0 0.25em; line-height: 1.5; border-radius: 0.35em;\">\n",
       "    \n",
       "<span style=\"font-size: 1.0em; font-weight: bold; line-height: 2.5; border-radius: 0.35em; vertical-align: middle; margin-left: 0.5rem\">Other Section Title</span>\n",
       "</mark>\n",
       "</br><h1>Emergency Note</h1><h2>NLP Document Classification: POSSIBLE</h2><div class=\"entities\" style=\"line-height: 1.25; direction: ltr\">\n",
       "<mark class=\"entity\" style=\"background: #96eaf2; padding: 0.25em 0.6em; margin: 0 0.25em; line-height: 1.5; border-radius: 0.35em;\">\n",
       "    \n",
       "Hospital Course\n",
       "    <span style=\"font-size: 0.8em; font-weight: bold; line-height: 2.5; border-radius: 0.35em; vertical-align: middle; margin-left: 0.5rem\"><< HOSPITAL_COURSE >></span>\n",
       "</mark>\n",
       ": The patient presents with a cough and fever.</br>A chest x-ray was positive for \n",
       "<mark class=\"entity\" style=\"background: #ff8c8c; padding: 0.25em 0.6em; margin: 0 0.25em; line-height: 1.5; border-radius: 0.35em;\">\n",
       "    opacities\n",
       "    <span style=\"font-size: 0.8em; font-weight: bold; line-height: 2.5; border-radius: 0.35em; vertical-align: middle; margin-left: 0.5rem\">OPACITY</span>\n",
       "</mark>\n",
       ". \n",
       "<mark class=\"entity\" style=\"background: #96eaf2; padding: 0.25em 0.6em; margin: 0 0.25em; line-height: 1.5; border-radius: 0.35em;\">\n",
       "    \n",
       "\n",
       "Medical decision making\n",
       "    <span style=\"font-size: 0.8em; font-weight: bold; line-height: 2.5; border-radius: 0.35em; vertical-align: middle; margin-left: 0.5rem\"><< MEDICAL_DECISION_MAKING >></span>\n",
       "</mark>\n",
       ": Possible \n",
       "<mark class=\"entity\" style=\"background: #e3dede; padding: 0.25em 0.6em; margin: 0 0.25em; line-height: 1.5; border-radius: 0.35em;\">\n",
       "    differential dx\n",
       "    <span style=\"font-size: 0.8em; font-weight: bold; line-height: 2.5; border-radius: 0.35em; vertical-align: middle; margin-left: 0.5rem\">POSSIBLE_EXISTENCE</span>\n",
       "</mark>\n",
       " include \n",
       "<mark class=\"entity\" style=\"background: #ff8c8c; padding: 0.25em 0.6em; margin: 0 0.25em; line-height: 1.5; border-radius: 0.35em;\">\n",
       "    pneumonia\n",
       "    <span style=\"font-size: 0.8em; font-weight: bold; line-height: 2.5; border-radius: 0.35em; vertical-align: middle; margin-left: 0.5rem\">PNEUMONIA</span>\n",
       "</mark>\n",
       ", atelectasis, and CHF.</br></br></div>"
      ],
      "text/plain": [
       "<IPython.core.display.HTML object>"
      ]
     },
     "execution_count": 17,
     "metadata": {},
     "output_type": "execute_result"
    }
   ],
   "source": [
    "HTML(create_html(doc, \"emergency\", document_classification=True))"
   ]
  },
  {
   "cell_type": "code",
   "execution_count": 18,
   "id": "e265d694",
   "metadata": {},
   "outputs": [
    {
     "name": "stdout",
     "output_type": "stream",
     "text": [
      "opacities OPACITY hospital_course\n",
      "pneumonia PNEUMONIA medical_decision_making\n",
      "atelectasis ATELECTASIS medical_decision_making\n"
     ]
    }
   ],
   "source": [
    "for ent in doc.ents:\n",
    "    print(ent, ent.label_, ent._.section_category)"
   ]
  },
  {
   "cell_type": "code",
   "execution_count": 19,
   "id": "4a26df9b",
   "metadata": {},
   "outputs": [
    {
     "name": "stdout",
     "output_type": "stream",
     "text": [
      "POSSIBLE\n"
     ]
    }
   ],
   "source": [
    "print(doc._.document_classification)"
   ]
  },
  {
   "cell_type": "code",
   "execution_count": null,
   "id": "dd04a275",
   "metadata": {},
   "outputs": [],
   "source": []
  },
  {
   "cell_type": "markdown",
   "id": "04f15127",
   "metadata": {},
   "source": [
    "## Example 4: Negated in MDM\n",
    "In this example, pneumonia is initially considered as a possible diagnosis but is later ruled out by a chest x-ray."
   ]
  },
  {
   "cell_type": "code",
   "execution_count": 20,
   "id": "472f0ebe",
   "metadata": {},
   "outputs": [],
   "source": [
    "text = \"\"\"\n",
    "Medical decision making:\n",
    "Initial presentation was concerning for pneumonia. However, CXR showed no infiltrate.\n",
    "\n",
    "\"\"\"\n",
    "doc = nlp_emergency(text)"
   ]
  },
  {
   "cell_type": "code",
   "execution_count": 21,
   "id": "3f425d64",
   "metadata": {},
   "outputs": [
    {
     "data": {
      "text/html": [
       "<h1>Legend</h1>\n",
       "<mark class=\"entity\" style=\"background: #ff8c8c; padding: 0.25em 0.6em; margin: 0 0.25em; line-height: 1.5; border-radius: 0.35em;\">\n",
       "    \n",
       "<span style=\"font-size: 1.0em; font-weight: bold; line-height: 2.5; border-radius: 0.35em; vertical-align: middle; margin-left: 0.5rem\">Pneumonia</span>\n",
       "</mark>\n",
       "\n",
       "<mark class=\"entity\" style=\"background: #e3dede; padding: 0.25em 0.6em; margin: 0 0.25em; line-height: 1.5; border-radius: 0.35em;\">\n",
       "    \n",
       "<span style=\"font-size: 1.0em; font-weight: bold; line-height: 2.5; border-radius: 0.35em; vertical-align: middle; margin-left: 0.5rem\">Assertion Modifier</span>\n",
       "</mark>\n",
       "\n",
       "<mark class=\"entity\" style=\"background: #96eaf2; padding: 0.25em 0.6em; margin: 0 0.25em; line-height: 1.5; border-radius: 0.35em;\">\n",
       "    \n",
       "<span style=\"font-size: 1.0em; font-weight: bold; line-height: 2.5; border-radius: 0.35em; vertical-align: middle; margin-left: 0.5rem\">Primary Section Title</span>\n",
       "</mark>\n",
       "\n",
       "<mark class=\"entity\" style=\"background: #c8fae4; padding: 0.25em 0.6em; margin: 0 0.25em; line-height: 1.5; border-radius: 0.35em;\">\n",
       "    \n",
       "<span style=\"font-size: 1.0em; font-weight: bold; line-height: 2.5; border-radius: 0.35em; vertical-align: middle; margin-left: 0.5rem\">Other Section Title</span>\n",
       "</mark>\n",
       "</br><h1>Emergency Note</h1><h2>NLP Document Classification: NEG</h2><div class=\"entities\" style=\"line-height: 1.25; direction: ltr\">\n",
       "<mark class=\"entity\" style=\"background: #96eaf2; padding: 0.25em 0.6em; margin: 0 0.25em; line-height: 1.5; border-radius: 0.35em;\">\n",
       "    \n",
       "Medical decision making\n",
       "    <span style=\"font-size: 0.8em; font-weight: bold; line-height: 2.5; border-radius: 0.35em; vertical-align: middle; margin-left: 0.5rem\"><< MEDICAL_DECISION_MAKING >></span>\n",
       "</mark>\n",
       ":</br>Initial presentation was \n",
       "<mark class=\"entity\" style=\"background: #e3dede; padding: 0.25em 0.6em; margin: 0 0.25em; line-height: 1.5; border-radius: 0.35em;\">\n",
       "    concerning for\n",
       "    <span style=\"font-size: 0.8em; font-weight: bold; line-height: 2.5; border-radius: 0.35em; vertical-align: middle; margin-left: 0.5rem\">POSSIBLE_EXISTENCE</span>\n",
       "</mark>\n",
       " \n",
       "<mark class=\"entity\" style=\"background: #ff8c8c; padding: 0.25em 0.6em; margin: 0 0.25em; line-height: 1.5; border-radius: 0.35em;\">\n",
       "    pneumonia\n",
       "    <span style=\"font-size: 0.8em; font-weight: bold; line-height: 2.5; border-radius: 0.35em; vertical-align: middle; margin-left: 0.5rem\">PNEUMONIA</span>\n",
       "</mark>\n",
       ". However, CXR showed \n",
       "<mark class=\"entity\" style=\"background: #e3dede; padding: 0.25em 0.6em; margin: 0 0.25em; line-height: 1.5; border-radius: 0.35em;\">\n",
       "    no\n",
       "    <span style=\"font-size: 0.8em; font-weight: bold; line-height: 2.5; border-radius: 0.35em; vertical-align: middle; margin-left: 0.5rem\">NEGATED_EXISTENCE</span>\n",
       "</mark>\n",
       " \n",
       "<mark class=\"entity\" style=\"background: #ff8c8c; padding: 0.25em 0.6em; margin: 0 0.25em; line-height: 1.5; border-radius: 0.35em;\">\n",
       "    infiltrate\n",
       "    <span style=\"font-size: 0.8em; font-weight: bold; line-height: 2.5; border-radius: 0.35em; vertical-align: middle; margin-left: 0.5rem\">INFILTRATE</span>\n",
       "</mark>\n",
       ".</br></br></div>"
      ],
      "text/plain": [
       "<IPython.core.display.HTML object>"
      ]
     },
     "execution_count": 21,
     "metadata": {},
     "output_type": "execute_result"
    }
   ],
   "source": [
    "HTML(create_html(doc, \"emergency\", document_classification=True))"
   ]
  },
  {
   "cell_type": "code",
   "execution_count": 22,
   "id": "9d83c026",
   "metadata": {},
   "outputs": [
    {
     "name": "stdout",
     "output_type": "stream",
     "text": [
      "pneumonia PNEUMONIA medical_decision_making False\n",
      "infiltrate INFILTRATE medical_decision_making True\n"
     ]
    }
   ],
   "source": [
    "for ent in doc.ents:\n",
    "    print(ent, ent.label_, ent._.section_category, ent._.is_negated)"
   ]
  },
  {
   "cell_type": "code",
   "execution_count": null,
   "id": "ad7fadc1",
   "metadata": {},
   "outputs": [],
   "source": []
  }
 ],
 "metadata": {
  "kernelspec": {
   "display_name": "Python 3 (ipykernel)",
   "language": "python",
   "name": "python3"
  },
  "language_info": {
   "codemirror_mode": {
    "name": "ipython",
    "version": 3
   },
   "file_extension": ".py",
   "mimetype": "text/x-python",
   "name": "python",
   "nbconvert_exporter": "python",
   "pygments_lexer": "ipython3",
   "version": "3.8.13"
  }
 },
 "nbformat": 4,
 "nbformat_minor": 5
}
