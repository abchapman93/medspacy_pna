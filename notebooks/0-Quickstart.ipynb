{
 "cells": [
  {
   "cell_type": "code",
   "execution_count": 1,
   "id": "0f8b7c9a",
   "metadata": {},
   "outputs": [],
   "source": [
    "%load_ext autoreload\n",
    "%autoreload 2"
   ]
  },
  {
   "cell_type": "code",
   "execution_count": 2,
   "id": "9f31d8bb",
   "metadata": {},
   "outputs": [],
   "source": [
    "import os, sys\n",
    "sys.path.append(\"..\")"
   ]
  },
  {
   "cell_type": "markdown",
   "id": "e7c506cb",
   "metadata": {},
   "source": [
    "# medspaCy Pneumonia\n",
    "## Overview\n",
    "This repository implements a rule-based NLP pipeline for extracting diagnostic assertions of pneumonia from clinical text. The primary purpose of this system is to identify diagnostic discordance of pneumonia at different points in a hospitalization. As such, three different \"flavors\" of NLP are implemented in this repository, each designed for a specific type of clinical note and clinical definition:\n",
    "- Emergency notes for identifying an initial diagnosis in the emergency department (ED)\n",
    "- Radiology reports for identifying radiographic evidence of pneumonia from chest imaging (RAD)\n",
    "- Discharge summaries for identifying a final diagnosis when a patient is discharged from the hospital (DC)\n",
    "\n",
    "While much of the logic is common between the three models, they are customized in the following ways:\n",
    "- Certain terms may be considered evidence of pneumonia in one note but not another. For example, **\"infectious process\"** in a chest imaging report should be considered evidence of pneumonia but this would be too vague to be used in clinical notes\n",
    "- Section titles are customized for each note type\n",
    "- The logic for classifying a document is specific to each note type\n",
    "\n",
    "Additionally, in order to support generalizability, new rules can be added to customize the system to a new EHR. In our work we first developed the system in Veterans Affairs (VA) and then customized it for Universit of Utah (UU).\n",
    "\n",
    "This work is described in detail in a manuscript that is currently being prepared for submission (PI Dr. Barbara Jones). \n",
    "\n",
    "These notebooks will walk through some of the core logic of this system.\n",
    "\n",
    "0. **Quickstart**\n",
    "1. **Emergency department logic**\n",
    "2. **Radiology report logic**\n",
    "3. **Discharge summary logic**\n",
    "4. **Customizing for a new dataset**"
   ]
  },
  {
   "cell_type": "markdown",
   "id": "2a1151bd",
   "metadata": {},
   "source": [
    "## Quickstart\n",
    "The following examples show how to load a model for a specific clinical setting, process a note, and view the output. The `build_nlp` function takes a domain name, loads a set of rules, and returns a spaCy model."
   ]
  },
  {
   "cell_type": "code",
   "execution_count": 3,
   "id": "de3f9a44",
   "metadata": {},
   "outputs": [],
   "source": [
    "from medspacy_pna import build_nlp\n",
    "from medspacy_pna.display import create_html\n",
    "from medspacy.visualization import visualize_ent, visualize_dep\n",
    "from IPython.display import HTML"
   ]
  },
  {
   "cell_type": "markdown",
   "id": "910b4ffb",
   "metadata": {},
   "source": [
    "## Emergency"
   ]
  },
  {
   "cell_type": "code",
   "execution_count": 4,
   "id": "bf344ab3",
   "metadata": {},
   "outputs": [],
   "source": [
    "%%capture\n",
    "nlp_emergency = build_nlp(\"emergency\")"
   ]
  },
  {
   "cell_type": "markdown",
   "id": "920333d4",
   "metadata": {},
   "source": [
    "Each model contains the same general pipeline components:\n",
    "- Standard spaCy components for tokenizing, POS tagging, and sentence parsing\n",
    "- medspaCy components for extracting entities: `medspacy_concept_tagger` and `medspacy_target_matcher`\n",
    "- The `medspacy_context` component for asserting attributes such as negation and uncertainty\n",
    "- `medspacy_sectionizer` for identifying sections in the clinical note\n",
    "- `medspacy_postprocessor`\n",
    "- A custom component unique to each note type for document classification and assigns one of three labels to the document:\n",
    "    - **Positive**\n",
    "    - **Possible**\n",
    "    - **Negative**\n",
    "    \n",
    "For most of these notebooks, **\"Positive\"** and **\"Possible\"** diagnoses won't be differentiated and will both be referred to as positive notes.\n",
    "\n",
    "Definitions of the document classifications for each domain will be explained in subsequent notebooks.\n"
   ]
  },
  {
   "cell_type": "code",
   "execution_count": 5,
   "id": "e73202fc",
   "metadata": {},
   "outputs": [
    {
     "data": {
      "text/plain": [
       "['tok2vec',\n",
       " 'tagger',\n",
       " 'parser',\n",
       " 'medspacy_concept_tagger',\n",
       " 'medspacy_target_matcher',\n",
       " 'medspacy_context',\n",
       " 'medspacy_sectionizer',\n",
       " 'medspacy_postprocessor',\n",
       " 'pneumonia_emergencydocumentclassifier']"
      ]
     },
     "execution_count": 5,
     "metadata": {},
     "output_type": "execute_result"
    }
   ],
   "source": [
    "nlp_emergency.pipe_names"
   ]
  },
  {
   "cell_type": "markdown",
   "id": "6671b47f",
   "metadata": {},
   "source": [
    "Let's process an example emergency note. Here the provider suspects pneumonia but expresses some uncertainty, so the note is classified as **Possible**."
   ]
  },
  {
   "cell_type": "code",
   "execution_count": 6,
   "id": "69d9ed00",
   "metadata": {},
   "outputs": [],
   "source": [
    "note_emergency = \"\"\"\n",
    "History of Present Illness: Patient presents to ED with cough and fever.\n",
    "\n",
    "Medical decision making: Differential diagnoses include pna and CHF. \n",
    "Will order a chest x-ray to r/o pneumonia.\n",
    "\n",
    "Assessment/Plan:\n",
    "Admit for suspected community-acquired pneumonia.\n",
    "\"\"\""
   ]
  },
  {
   "cell_type": "code",
   "execution_count": 7,
   "id": "685ee663",
   "metadata": {},
   "outputs": [
    {
     "data": {
      "text/plain": [
       "['tok2vec',\n",
       " 'tagger',\n",
       " 'parser',\n",
       " 'medspacy_concept_tagger',\n",
       " 'medspacy_target_matcher',\n",
       " 'medspacy_context',\n",
       " 'medspacy_sectionizer',\n",
       " 'medspacy_postprocessor',\n",
       " 'pneumonia_emergencydocumentclassifier']"
      ]
     },
     "execution_count": 7,
     "metadata": {},
     "output_type": "execute_result"
    }
   ],
   "source": [
    "nlp_emergency.pipe_names"
   ]
  },
  {
   "cell_type": "code",
   "execution_count": 8,
   "id": "f3f84911",
   "metadata": {},
   "outputs": [],
   "source": [
    "doc_ed = nlp_emergency(note_emergency)"
   ]
  },
  {
   "cell_type": "markdown",
   "id": "f5c08500",
   "metadata": {},
   "source": [
    "We can visualize the output using either medspaCy's `visualize_ent` function, which is useful for debugging and viewing details about the NLP output, or a custom `create_html` function which is slightly higher level and used for building a provider display."
   ]
  },
  {
   "cell_type": "code",
   "execution_count": 9,
   "id": "5beecf24",
   "metadata": {},
   "outputs": [
    {
     "name": "stdout",
     "output_type": "stream",
     "text": [
      "POSSIBLE\n"
     ]
    },
    {
     "name": "stderr",
     "output_type": "stream",
     "text": [
      "D:\\Users\\u0752374\\.conda\\envs\\medspacy-spacy3\\lib\\site-packages\\spacy\\displacy\\__init__.py:65: DeprecationWarning: Importing display from IPython.core.display is deprecated since IPython 7.14, please import from IPython display\n",
      "  from IPython.core.display import display, HTML\n"
     ]
    },
    {
     "data": {
      "text/html": [
       "<span class=\"tex2jax_ignore\"><div class=\"entities\" style=\"line-height: 2.5; direction: ltr\"></br>\n",
       "<mark class=\"entity\" style=\"background: #dee0e3; padding: 0.45em 0.6em; margin: 0 0.25em; line-height: 1; border-radius: 0.35em;\">\n",
       "    History of Present Illness:\n",
       "    <span style=\"font-size: 0.8em; font-weight: bold; line-height: 1; border-radius: 0.35em; vertical-align: middle; margin-left: 0.5rem\"><< HISTORY_OF_PRESENT_ILLNESS >></span>\n",
       "</mark>\n",
       " Patient presents to ED with cough and fever.\n",
       "<mark class=\"entity\" style=\"background: #dee0e3; padding: 0.45em 0.6em; margin: 0 0.25em; line-height: 1; border-radius: 0.35em;\">\n",
       "    \n",
       "\n",
       "Medical decision making\n",
       "    <span style=\"font-size: 0.8em; font-weight: bold; line-height: 1; border-radius: 0.35em; vertical-align: middle; margin-left: 0.5rem\"><< MEDICAL_DECISION_MAKING >></span>\n",
       "</mark>\n",
       ": \n",
       "<mark class=\"entity\" style=\"background: #1f77b4; padding: 0.45em 0.6em; margin: 0 0.25em; line-height: 1; border-radius: 0.35em;\">\n",
       "    Differential diagnoses\n",
       "    <span style=\"font-size: 0.8em; font-weight: bold; line-height: 1; border-radius: 0.35em; vertical-align: middle; margin-left: 0.5rem\">POSSIBLE_EXISTENCE</span>\n",
       "</mark>\n",
       " include \n",
       "<mark class=\"entity\" style=\"background: #ff7f0e; padding: 0.45em 0.6em; margin: 0 0.25em; line-height: 1; border-radius: 0.35em;\">\n",
       "    pna\n",
       "    <span style=\"font-size: 0.8em; font-weight: bold; line-height: 1; border-radius: 0.35em; vertical-align: middle; margin-left: 0.5rem\">PNEUMONIA</span>\n",
       "</mark>\n",
       " and CHF. </br>Will order a chest x-ray to \n",
       "<mark class=\"entity\" style=\"background: #1f77b4; padding: 0.45em 0.6em; margin: 0 0.25em; line-height: 1; border-radius: 0.35em;\">\n",
       "    r/o\n",
       "    <span style=\"font-size: 0.8em; font-weight: bold; line-height: 1; border-radius: 0.35em; vertical-align: middle; margin-left: 0.5rem\">POSSIBLE_EXISTENCE</span>\n",
       "</mark>\n",
       " \n",
       "<mark class=\"entity\" style=\"background: #ff7f0e; padding: 0.45em 0.6em; margin: 0 0.25em; line-height: 1; border-radius: 0.35em;\">\n",
       "    pneumonia\n",
       "    <span style=\"font-size: 0.8em; font-weight: bold; line-height: 1; border-radius: 0.35em; vertical-align: middle; margin-left: 0.5rem\">PNEUMONIA</span>\n",
       "</mark>\n",
       ".</br></br>\n",
       "<mark class=\"entity\" style=\"background: #dee0e3; padding: 0.45em 0.6em; margin: 0 0.25em; line-height: 1; border-radius: 0.35em;\">\n",
       "    Assessment/Plan:\n",
       "    <span style=\"font-size: 0.8em; font-weight: bold; line-height: 1; border-radius: 0.35em; vertical-align: middle; margin-left: 0.5rem\"><< OBSERVATION_AND_PLAN >></span>\n",
       "</mark>\n",
       "</br>Admit for \n",
       "<mark class=\"entity\" style=\"background: #1f77b4; padding: 0.45em 0.6em; margin: 0 0.25em; line-height: 1; border-radius: 0.35em;\">\n",
       "    suspected\n",
       "    <span style=\"font-size: 0.8em; font-weight: bold; line-height: 1; border-radius: 0.35em; vertical-align: middle; margin-left: 0.5rem\">POSSIBLE_EXISTENCE</span>\n",
       "</mark>\n",
       " community-acquired \n",
       "<mark class=\"entity\" style=\"background: #ff7f0e; padding: 0.45em 0.6em; margin: 0 0.25em; line-height: 1; border-radius: 0.35em;\">\n",
       "    pneumonia\n",
       "    <span style=\"font-size: 0.8em; font-weight: bold; line-height: 1; border-radius: 0.35em; vertical-align: middle; margin-left: 0.5rem\">PNEUMONIA</span>\n",
       "</mark>\n",
       ".</br></div></span>"
      ],
      "text/plain": [
       "<IPython.core.display.HTML object>"
      ]
     },
     "metadata": {},
     "output_type": "display_data"
    }
   ],
   "source": [
    "print(doc_ed._.document_classification)\n",
    "visualize_ent(doc_ed)"
   ]
  },
  {
   "cell_type": "code",
   "execution_count": 10,
   "id": "929ba9a7",
   "metadata": {},
   "outputs": [
    {
     "data": {
      "text/html": [
       "<h1>Legend</h1>\n",
       "<mark class=\"entity\" style=\"background: #ff8c8c; padding: 0.25em 0.6em; margin: 0 0.25em; line-height: 1.5; border-radius: 0.35em;\">\n",
       "    \n",
       "<span style=\"font-size: 1.0em; font-weight: bold; line-height: 2.5; border-radius: 0.35em; vertical-align: middle; margin-left: 0.5rem\">Pneumonia</span>\n",
       "</mark>\n",
       "\n",
       "<mark class=\"entity\" style=\"background: #e3dede; padding: 0.25em 0.6em; margin: 0 0.25em; line-height: 1.5; border-radius: 0.35em;\">\n",
       "    \n",
       "<span style=\"font-size: 1.0em; font-weight: bold; line-height: 2.5; border-radius: 0.35em; vertical-align: middle; margin-left: 0.5rem\">Assertion Modifier</span>\n",
       "</mark>\n",
       "\n",
       "<mark class=\"entity\" style=\"background: #96eaf2; padding: 0.25em 0.6em; margin: 0 0.25em; line-height: 1.5; border-radius: 0.35em;\">\n",
       "    \n",
       "<span style=\"font-size: 1.0em; font-weight: bold; line-height: 2.5; border-radius: 0.35em; vertical-align: middle; margin-left: 0.5rem\">Primary Section Title</span>\n",
       "</mark>\n",
       "\n",
       "<mark class=\"entity\" style=\"background: #c8fae4; padding: 0.25em 0.6em; margin: 0 0.25em; line-height: 1.5; border-radius: 0.35em;\">\n",
       "    \n",
       "<span style=\"font-size: 1.0em; font-weight: bold; line-height: 2.5; border-radius: 0.35em; vertical-align: middle; margin-left: 0.5rem\">Other Section Title</span>\n",
       "</mark>\n",
       "</br><h1>Emergency Note</h1><h2>NLP Document Classification: POSSIBLE</h2><div class=\"entities\" style=\"line-height: 1.25; direction: ltr\"></br>\n",
       "<mark class=\"entity\" style=\"background: #c8fae4; padding: 0.25em 0.6em; margin: 0 0.25em; line-height: 1.5; border-radius: 0.35em;\">\n",
       "    History of Present Illness:\n",
       "    <span style=\"font-size: 0.8em; font-weight: bold; line-height: 2.5; border-radius: 0.35em; vertical-align: middle; margin-left: 0.5rem\"><< HISTORY_OF_PRESENT_ILLNESS >></span>\n",
       "</mark>\n",
       " Patient presents to ED with cough and fever.\n",
       "<mark class=\"entity\" style=\"background: #96eaf2; padding: 0.25em 0.6em; margin: 0 0.25em; line-height: 1.5; border-radius: 0.35em;\">\n",
       "    \n",
       "\n",
       "Medical decision making\n",
       "    <span style=\"font-size: 0.8em; font-weight: bold; line-height: 2.5; border-radius: 0.35em; vertical-align: middle; margin-left: 0.5rem\"><< MEDICAL_DECISION_MAKING >></span>\n",
       "</mark>\n",
       ": \n",
       "<mark class=\"entity\" style=\"background: #e3dede; padding: 0.25em 0.6em; margin: 0 0.25em; line-height: 1.5; border-radius: 0.35em;\">\n",
       "    Differential diagnoses\n",
       "    <span style=\"font-size: 0.8em; font-weight: bold; line-height: 2.5; border-radius: 0.35em; vertical-align: middle; margin-left: 0.5rem\">POSSIBLE_EXISTENCE</span>\n",
       "</mark>\n",
       " include \n",
       "<mark class=\"entity\" style=\"background: #ff8c8c; padding: 0.25em 0.6em; margin: 0 0.25em; line-height: 1.5; border-radius: 0.35em;\">\n",
       "    pna\n",
       "    <span style=\"font-size: 0.8em; font-weight: bold; line-height: 2.5; border-radius: 0.35em; vertical-align: middle; margin-left: 0.5rem\">PNEUMONIA</span>\n",
       "</mark>\n",
       " and CHF. </br>Will order a chest x-ray to \n",
       "<mark class=\"entity\" style=\"background: #e3dede; padding: 0.25em 0.6em; margin: 0 0.25em; line-height: 1.5; border-radius: 0.35em;\">\n",
       "    r/o\n",
       "    <span style=\"font-size: 0.8em; font-weight: bold; line-height: 2.5; border-radius: 0.35em; vertical-align: middle; margin-left: 0.5rem\">POSSIBLE_EXISTENCE</span>\n",
       "</mark>\n",
       " \n",
       "<mark class=\"entity\" style=\"background: #ff8c8c; padding: 0.25em 0.6em; margin: 0 0.25em; line-height: 1.5; border-radius: 0.35em;\">\n",
       "    pneumonia\n",
       "    <span style=\"font-size: 0.8em; font-weight: bold; line-height: 2.5; border-radius: 0.35em; vertical-align: middle; margin-left: 0.5rem\">PNEUMONIA</span>\n",
       "</mark>\n",
       ".</br></br>\n",
       "<mark class=\"entity\" style=\"background: #96eaf2; padding: 0.25em 0.6em; margin: 0 0.25em; line-height: 1.5; border-radius: 0.35em;\">\n",
       "    Assessment/Plan:\n",
       "    <span style=\"font-size: 0.8em; font-weight: bold; line-height: 2.5; border-radius: 0.35em; vertical-align: middle; margin-left: 0.5rem\"><< OBSERVATION_AND_PLAN >></span>\n",
       "</mark>\n",
       "</br>Admit for \n",
       "<mark class=\"entity\" style=\"background: #e3dede; padding: 0.25em 0.6em; margin: 0 0.25em; line-height: 1.5; border-radius: 0.35em;\">\n",
       "    suspected\n",
       "    <span style=\"font-size: 0.8em; font-weight: bold; line-height: 2.5; border-radius: 0.35em; vertical-align: middle; margin-left: 0.5rem\">POSSIBLE_EXISTENCE</span>\n",
       "</mark>\n",
       " community-acquired \n",
       "<mark class=\"entity\" style=\"background: #ff8c8c; padding: 0.25em 0.6em; margin: 0 0.25em; line-height: 1.5; border-radius: 0.35em;\">\n",
       "    pneumonia\n",
       "    <span style=\"font-size: 0.8em; font-weight: bold; line-height: 2.5; border-radius: 0.35em; vertical-align: middle; margin-left: 0.5rem\">PNEUMONIA</span>\n",
       "</mark>\n",
       ".</br></div>"
      ],
      "text/plain": [
       "<IPython.core.display.HTML object>"
      ]
     },
     "execution_count": 10,
     "metadata": {},
     "output_type": "execute_result"
    }
   ],
   "source": [
    "HTML(create_html(doc_ed, \"emergency\", document_classification=True))"
   ]
  },
  {
   "cell_type": "markdown",
   "id": "a5329f98",
   "metadata": {},
   "source": [
    "## Radiology\n",
    "Following our fictional example from earlier, after being admitted the patient receives a chest x-ray to confirm the provider's suspicion of pneumonia. This also has positive findings and is classified as **\"Positive\"**."
   ]
  },
  {
   "cell_type": "code",
   "execution_count": 11,
   "id": "c104bc1b",
   "metadata": {},
   "outputs": [],
   "source": [
    "%%capture\n",
    "nlp_rad = build_nlp(\"radiology\")"
   ]
  },
  {
   "cell_type": "code",
   "execution_count": 12,
   "id": "c495351f",
   "metadata": {},
   "outputs": [],
   "source": [
    "text_rad = \"\"\"\n",
    "Indication: Evaluate for pneumonia.\n",
    "\n",
    "Findings: Opacities noted in the left lower lobe. \n",
    "Possible infiltrates representing atelectasis vs pneumonia.\n",
    "\n",
    "Impression: Most likely pneumonia.\n",
    "\"\"\""
   ]
  },
  {
   "cell_type": "code",
   "execution_count": 13,
   "id": "4696ae59",
   "metadata": {},
   "outputs": [
    {
     "name": "stderr",
     "output_type": "stream",
     "text": [
      "D:\\Users\\u0752374\\.conda\\envs\\medspacy-spacy3\\lib\\site-packages\\medspacy\\common\\medspacy_matcher.py:80: UserWarning: [W036] The component 'matcher' does not have any patterns defined.\n",
      "  matches = self.matcher(doc)\n"
     ]
    }
   ],
   "source": [
    "doc_rad = nlp_rad(text_rad)"
   ]
  },
  {
   "cell_type": "code",
   "execution_count": 14,
   "id": "26df0942",
   "metadata": {},
   "outputs": [
    {
     "data": {
      "text/html": [
       "<h1>Legend</h1>\n",
       "<mark class=\"entity\" style=\"background: #ff8c8c; padding: 0.25em 0.6em; margin: 0 0.25em; line-height: 1.5; border-radius: 0.35em;\">\n",
       "    \n",
       "<span style=\"font-size: 1.0em; font-weight: bold; line-height: 2.5; border-radius: 0.35em; vertical-align: middle; margin-left: 0.5rem\">Pneumonia</span>\n",
       "</mark>\n",
       "\n",
       "<mark class=\"entity\" style=\"background: #e3dede; padding: 0.25em 0.6em; margin: 0 0.25em; line-height: 1.5; border-radius: 0.35em;\">\n",
       "    \n",
       "<span style=\"font-size: 1.0em; font-weight: bold; line-height: 2.5; border-radius: 0.35em; vertical-align: middle; margin-left: 0.5rem\">Assertion Modifier</span>\n",
       "</mark>\n",
       "\n",
       "<mark class=\"entity\" style=\"background: #96eaf2; padding: 0.25em 0.6em; margin: 0 0.25em; line-height: 1.5; border-radius: 0.35em;\">\n",
       "    \n",
       "<span style=\"font-size: 1.0em; font-weight: bold; line-height: 2.5; border-radius: 0.35em; vertical-align: middle; margin-left: 0.5rem\">Primary Section Title</span>\n",
       "</mark>\n",
       "\n",
       "<mark class=\"entity\" style=\"background: #c8fae4; padding: 0.25em 0.6em; margin: 0 0.25em; line-height: 1.5; border-radius: 0.35em;\">\n",
       "    \n",
       "<span style=\"font-size: 1.0em; font-weight: bold; line-height: 2.5; border-radius: 0.35em; vertical-align: middle; margin-left: 0.5rem\">Other Section Title</span>\n",
       "</mark>\n",
       "</br><h1>Radiology Report</h1><h2>NLP Document Classification: POS</h2><div class=\"entities\" style=\"line-height: 1.25; direction: ltr\"></br>\n",
       "<mark class=\"entity\" style=\"background: #c8fae4; padding: 0.25em 0.6em; margin: 0 0.25em; line-height: 1.5; border-radius: 0.35em;\">\n",
       "    Indication:\n",
       "    <span style=\"font-size: 0.8em; font-weight: bold; line-height: 2.5; border-radius: 0.35em; vertical-align: middle; margin-left: 0.5rem\"><< INDICATION >></span>\n",
       "</mark>\n",
       " \n",
       "<mark class=\"entity\" style=\"background: #ddd; padding: 0.25em 0.6em; margin: 0 0.25em; line-height: 1.5; border-radius: 0.35em;\">\n",
       "    Evaluate for\n",
       "    <span style=\"font-size: 0.8em; font-weight: bold; line-height: 2.5; border-radius: 0.35em; vertical-align: middle; margin-left: 0.5rem\">HYPOTHETICAL</span>\n",
       "</mark>\n",
       " \n",
       "<mark class=\"entity\" style=\"background: #ff8c8c; padding: 0.25em 0.6em; margin: 0 0.25em; line-height: 1.5; border-radius: 0.35em;\">\n",
       "    pneumonia\n",
       "    <span style=\"font-size: 0.8em; font-weight: bold; line-height: 2.5; border-radius: 0.35em; vertical-align: middle; margin-left: 0.5rem\">PNEUMONIA</span>\n",
       "</mark>\n",
       ".</br></br>\n",
       "<mark class=\"entity\" style=\"background: #96eaf2; padding: 0.25em 0.6em; margin: 0 0.25em; line-height: 1.5; border-radius: 0.35em;\">\n",
       "    Findings:\n",
       "    <span style=\"font-size: 0.8em; font-weight: bold; line-height: 2.5; border-radius: 0.35em; vertical-align: middle; margin-left: 0.5rem\"><< IMPRESSION >></span>\n",
       "</mark>\n",
       " \n",
       "<mark class=\"entity\" style=\"background: #ff8c8c; padding: 0.25em 0.6em; margin: 0 0.25em; line-height: 1.5; border-radius: 0.35em;\">\n",
       "    Opacities\n",
       "    <span style=\"font-size: 0.8em; font-weight: bold; line-height: 2.5; border-radius: 0.35em; vertical-align: middle; margin-left: 0.5rem\">OPACITY</span>\n",
       "</mark>\n",
       " noted in the left lower lobe. </br>\n",
       "<mark class=\"entity\" style=\"background: #e3dede; padding: 0.25em 0.6em; margin: 0 0.25em; line-height: 1.5; border-radius: 0.35em;\">\n",
       "    Possible\n",
       "    <span style=\"font-size: 0.8em; font-weight: bold; line-height: 2.5; border-radius: 0.35em; vertical-align: middle; margin-left: 0.5rem\">POSSIBLE_EXISTENCE</span>\n",
       "</mark>\n",
       " \n",
       "<mark class=\"entity\" style=\"background: #ff8c8c; padding: 0.25em 0.6em; margin: 0 0.25em; line-height: 1.5; border-radius: 0.35em;\">\n",
       "    infiltrates\n",
       "    <span style=\"font-size: 0.8em; font-weight: bold; line-height: 2.5; border-radius: 0.35em; vertical-align: middle; margin-left: 0.5rem\">INFILTRATE</span>\n",
       "</mark>\n",
       " representing atelectasis \n",
       "<mark class=\"entity\" style=\"background: #e3dede; padding: 0.25em 0.6em; margin: 0 0.25em; line-height: 1.5; border-radius: 0.35em;\">\n",
       "    vs\n",
       "    <span style=\"font-size: 0.8em; font-weight: bold; line-height: 2.5; border-radius: 0.35em; vertical-align: middle; margin-left: 0.5rem\">POSSIBLE_EXISTENCE</span>\n",
       "</mark>\n",
       " \n",
       "<mark class=\"entity\" style=\"background: #ff8c8c; padding: 0.25em 0.6em; margin: 0 0.25em; line-height: 1.5; border-radius: 0.35em;\">\n",
       "    pneumonia\n",
       "    <span style=\"font-size: 0.8em; font-weight: bold; line-height: 2.5; border-radius: 0.35em; vertical-align: middle; margin-left: 0.5rem\">PNEUMONIA</span>\n",
       "</mark>\n",
       ".</br></br>\n",
       "<mark class=\"entity\" style=\"background: #96eaf2; padding: 0.25em 0.6em; margin: 0 0.25em; line-height: 1.5; border-radius: 0.35em;\">\n",
       "    Impression:\n",
       "    <span style=\"font-size: 0.8em; font-weight: bold; line-height: 2.5; border-radius: 0.35em; vertical-align: middle; margin-left: 0.5rem\"><< IMPRESSION >></span>\n",
       "</mark>\n",
       " Most \n",
       "<mark class=\"entity\" style=\"background: #e3dede; padding: 0.25em 0.6em; margin: 0 0.25em; line-height: 1.5; border-radius: 0.35em;\">\n",
       "    likely\n",
       "    <span style=\"font-size: 0.8em; font-weight: bold; line-height: 2.5; border-radius: 0.35em; vertical-align: middle; margin-left: 0.5rem\">POSSIBLE_EXISTENCE</span>\n",
       "</mark>\n",
       " \n",
       "<mark class=\"entity\" style=\"background: #ff8c8c; padding: 0.25em 0.6em; margin: 0 0.25em; line-height: 1.5; border-radius: 0.35em;\">\n",
       "    pneumonia\n",
       "    <span style=\"font-size: 0.8em; font-weight: bold; line-height: 2.5; border-radius: 0.35em; vertical-align: middle; margin-left: 0.5rem\">PNEUMONIA</span>\n",
       "</mark>\n",
       ".</br></div>"
      ],
      "text/plain": [
       "<IPython.core.display.HTML object>"
      ]
     },
     "execution_count": 14,
     "metadata": {},
     "output_type": "execute_result"
    }
   ],
   "source": [
    "HTML(create_html(doc_rad, \"radiology\", document_classification=True))"
   ]
  },
  {
   "cell_type": "code",
   "execution_count": null,
   "id": "1b51c87a",
   "metadata": {},
   "outputs": [],
   "source": []
  },
  {
   "cell_type": "markdown",
   "id": "ca041d14",
   "metadata": {},
   "source": [
    "## Discharge\n",
    "When the patient is eventually discharged, we see that the final diagnosis was not pneumonia. This is an example of **diagnostic discordance** and identifying this change from a **Possible** to **Negative** diagnosis is the primary purpose of this repository."
   ]
  },
  {
   "cell_type": "code",
   "execution_count": 15,
   "id": "45bbcdb6",
   "metadata": {},
   "outputs": [],
   "source": [
    "%%capture\n",
    "nlp_dc = build_nlp(\"discharge\")"
   ]
  },
  {
   "cell_type": "code",
   "execution_count": 16,
   "id": "8885304c",
   "metadata": {},
   "outputs": [],
   "source": [
    "text_dc = \"\"\"\n",
    "Hospital Course: Initially concern for pneumonia. \n",
    "After admissions findings were found to be more consistent with CHF and pneumonia was ruled out.\n",
    "\n",
    "Final Diagnosis: CHF\n",
    "\"\"\"\n"
   ]
  },
  {
   "cell_type": "code",
   "execution_count": 17,
   "id": "31a04b34",
   "metadata": {},
   "outputs": [],
   "source": [
    "doc_dc = nlp_dc(text_dc)"
   ]
  },
  {
   "cell_type": "code",
   "execution_count": 18,
   "id": "25bc8918",
   "metadata": {},
   "outputs": [
    {
     "data": {
      "text/html": [
       "<h1>Legend</h1>\n",
       "<mark class=\"entity\" style=\"background: #ff8c8c; padding: 0.25em 0.6em; margin: 0 0.25em; line-height: 1.5; border-radius: 0.35em;\">\n",
       "    \n",
       "<span style=\"font-size: 1.0em; font-weight: bold; line-height: 2.5; border-radius: 0.35em; vertical-align: middle; margin-left: 0.5rem\">Pneumonia</span>\n",
       "</mark>\n",
       "\n",
       "<mark class=\"entity\" style=\"background: #e3dede; padding: 0.25em 0.6em; margin: 0 0.25em; line-height: 1.5; border-radius: 0.35em;\">\n",
       "    \n",
       "<span style=\"font-size: 1.0em; font-weight: bold; line-height: 2.5; border-radius: 0.35em; vertical-align: middle; margin-left: 0.5rem\">Assertion Modifier</span>\n",
       "</mark>\n",
       "\n",
       "<mark class=\"entity\" style=\"background: #96eaf2; padding: 0.25em 0.6em; margin: 0 0.25em; line-height: 1.5; border-radius: 0.35em;\">\n",
       "    \n",
       "<span style=\"font-size: 1.0em; font-weight: bold; line-height: 2.5; border-radius: 0.35em; vertical-align: middle; margin-left: 0.5rem\">Primary Section Title</span>\n",
       "</mark>\n",
       "\n",
       "<mark class=\"entity\" style=\"background: #c8fae4; padding: 0.25em 0.6em; margin: 0 0.25em; line-height: 1.5; border-radius: 0.35em;\">\n",
       "    \n",
       "<span style=\"font-size: 1.0em; font-weight: bold; line-height: 2.5; border-radius: 0.35em; vertical-align: middle; margin-left: 0.5rem\">Other Section Title</span>\n",
       "</mark>\n",
       "</br><h1>Discharge Summary</h1><h2>NLP Document Classification: NEG</h2><div class=\"entities\" style=\"line-height: 1.25; direction: ltr\">\n",
       "<mark class=\"entity\" style=\"background: #96eaf2; padding: 0.25em 0.6em; margin: 0 0.25em; line-height: 1.5; border-radius: 0.35em;\">\n",
       "    \n",
       "Hospital Course\n",
       "    <span style=\"font-size: 0.8em; font-weight: bold; line-height: 2.5; border-radius: 0.35em; vertical-align: middle; margin-left: 0.5rem\"><< HOSPITAL_COURSE >></span>\n",
       "</mark>\n",
       ": \n",
       "<mark class=\"entity\" style=\"background: #e3dede; padding: 0.25em 0.6em; margin: 0 0.25em; line-height: 1.5; border-radius: 0.35em;\">\n",
       "    Initially\n",
       "    <span style=\"font-size: 0.8em; font-weight: bold; line-height: 2.5; border-radius: 0.35em; vertical-align: middle; margin-left: 0.5rem\">HISTORICAL</span>\n",
       "</mark>\n",
       " \n",
       "<mark class=\"entity\" style=\"background: #e3dede; padding: 0.25em 0.6em; margin: 0 0.25em; line-height: 1.5; border-radius: 0.35em;\">\n",
       "    concern for\n",
       "    <span style=\"font-size: 0.8em; font-weight: bold; line-height: 2.5; border-radius: 0.35em; vertical-align: middle; margin-left: 0.5rem\">POSSIBLE_EXISTENCE</span>\n",
       "</mark>\n",
       " \n",
       "<mark class=\"entity\" style=\"background: #ff8c8c; padding: 0.25em 0.6em; margin: 0 0.25em; line-height: 1.5; border-radius: 0.35em;\">\n",
       "    pneumonia\n",
       "    <span style=\"font-size: 0.8em; font-weight: bold; line-height: 2.5; border-radius: 0.35em; vertical-align: middle; margin-left: 0.5rem\">PNEUMONIA</span>\n",
       "</mark>\n",
       ". </br>After admissions findings were found to be more \n",
       "<mark class=\"entity\" style=\"background: #e3dede; padding: 0.25em 0.6em; margin: 0 0.25em; line-height: 1.5; border-radius: 0.35em;\">\n",
       "    consistent with\n",
       "    <span style=\"font-size: 0.8em; font-weight: bold; line-height: 2.5; border-radius: 0.35em; vertical-align: middle; margin-left: 0.5rem\">POSSIBLE_EXISTENCE</span>\n",
       "</mark>\n",
       " CHF and \n",
       "<mark class=\"entity\" style=\"background: #ff8c8c; padding: 0.25em 0.6em; margin: 0 0.25em; line-height: 1.5; border-radius: 0.35em;\">\n",
       "    pneumonia\n",
       "    <span style=\"font-size: 0.8em; font-weight: bold; line-height: 2.5; border-radius: 0.35em; vertical-align: middle; margin-left: 0.5rem\">PNEUMONIA</span>\n",
       "</mark>\n",
       " \n",
       "<mark class=\"entity\" style=\"background: #e3dede; padding: 0.25em 0.6em; margin: 0 0.25em; line-height: 1.5; border-radius: 0.35em;\">\n",
       "    was ruled out\n",
       "    <span style=\"font-size: 0.8em; font-weight: bold; line-height: 2.5; border-radius: 0.35em; vertical-align: middle; margin-left: 0.5rem\">NEGATED_EXISTENCE</span>\n",
       "</mark>\n",
       ".</br></br>\n",
       "<mark class=\"entity\" style=\"background: #96eaf2; padding: 0.25em 0.6em; margin: 0 0.25em; line-height: 1.5; border-radius: 0.35em;\">\n",
       "    Final Diagnosis:\n",
       "    <span style=\"font-size: 0.8em; font-weight: bold; line-height: 2.5; border-radius: 0.35em; vertical-align: middle; margin-left: 0.5rem\"><< DISCHARGE_DIAGNOSES >></span>\n",
       "</mark>\n",
       " CHF</br></div>"
      ],
      "text/plain": [
       "<IPython.core.display.HTML object>"
      ]
     },
     "execution_count": 18,
     "metadata": {},
     "output_type": "execute_result"
    }
   ],
   "source": [
    "HTML(create_html(doc_dc, \"discharge\", document_classification=True))"
   ]
  },
  {
   "cell_type": "code",
   "execution_count": null,
   "id": "b0c71c85",
   "metadata": {},
   "outputs": [],
   "source": []
  },
  {
   "cell_type": "markdown",
   "id": "8ce5e76d",
   "metadata": {},
   "source": [
    "## Summary of pipeline components\n",
    "Each of the pipelines have a similar design. The rest of this notebook will quickly go over some of the main components in the pipeline. More details can be found in [medspaCy's  repository](https://github.com/medspacy/medspacy)."
   ]
  },
  {
   "cell_type": "markdown",
   "id": "da8a2ef4",
   "metadata": {},
   "source": [
    "### I. Entity Extraction\n",
    "First, entities are extracted using the `ConceptTagger` and `TargetMatcher` components."
   ]
  },
  {
   "cell_type": "code",
   "execution_count": 19,
   "id": "192129ed",
   "metadata": {},
   "outputs": [
    {
     "name": "stdout",
     "output_type": "stream",
     "text": [
      "Pneumonia PNEUMONIA\n",
      "pna PNEUMONIA\n",
      "opacities OPACITY\n",
      "infiltrate INFILTRATE\n",
      "cap PNEUMONIA\n"
     ]
    }
   ],
   "source": [
    "texts = [\n",
    "    \"Pneumonia\",\n",
    "    \"pna\",\n",
    "    \"opacities\",\n",
    "    \"infiltrate\",\n",
    "    \"cap\"\n",
    "]\n",
    "for text in texts:\n",
    "    for ent in nlp_emergency(text).ents:\n",
    "        print(ent, ent.label_)"
   ]
  },
  {
   "cell_type": "code",
   "execution_count": null,
   "id": "caeb27f1",
   "metadata": {},
   "outputs": [],
   "source": []
  },
  {
   "cell_type": "markdown",
   "id": "d33bb3bb",
   "metadata": {},
   "source": [
    "### ConText\n",
    "Once entities have been identified in the text, attributes such as negation, temporality, and uncertainty using the ConText algorithm."
   ]
  },
  {
   "cell_type": "code",
   "execution_count": 20,
   "id": "6ce57e40",
   "metadata": {},
   "outputs": [
    {
     "name": "stderr",
     "output_type": "stream",
     "text": [
      "D:\\Users\\u0752374\\.conda\\envs\\medspacy-spacy3\\lib\\site-packages\\spacy\\displacy\\__init__.py:65: DeprecationWarning: Importing display from IPython.core.display is deprecated since IPython 7.14, please import from IPython display\n",
      "  from IPython.core.display import display, HTML\n"
     ]
    },
    {
     "data": {
      "text/html": [
       "<span class=\"tex2jax_ignore\"><svg xmlns=\"http://www.w3.org/2000/svg\" xmlns:xlink=\"http://www.w3.org/1999/xlink\" xml:lang=\"en\" id=\"1b7b2061b9a14bf7b87132b7250912fb-0\" class=\"displacy\" width=\"750\" height=\"224.5\" direction=\"ltr\" style=\"max-width: none; height: 224.5px; color: #000000; background: #ffffff; font-family: Arial; direction: ltr\">\n",
       "<text class=\"displacy-token\" fill=\"currentColor\" text-anchor=\"middle\" y=\"134.5\">\n",
       "    <tspan class=\"displacy-word\" fill=\"currentColor\" x=\"50\">Recent</tspan>\n",
       "    <tspan class=\"displacy-tag\" dy=\"2em\" fill=\"currentColor\" x=\"50\"></tspan>\n",
       "</text>\n",
       "\n",
       "<text class=\"displacy-token\" fill=\"currentColor\" text-anchor=\"middle\" y=\"134.5\">\n",
       "    <tspan class=\"displacy-word\" fill=\"currentColor\" x=\"225\">diagnosis</tspan>\n",
       "    <tspan class=\"displacy-tag\" dy=\"2em\" fill=\"currentColor\" x=\"225\"></tspan>\n",
       "</text>\n",
       "\n",
       "<text class=\"displacy-token\" fill=\"currentColor\" text-anchor=\"middle\" y=\"134.5\">\n",
       "    <tspan class=\"displacy-word\" fill=\"currentColor\" x=\"400\">of</tspan>\n",
       "    <tspan class=\"displacy-tag\" dy=\"2em\" fill=\"currentColor\" x=\"400\"></tspan>\n",
       "</text>\n",
       "\n",
       "<text class=\"displacy-token\" fill=\"currentColor\" text-anchor=\"middle\" y=\"134.5\">\n",
       "    <tspan class=\"displacy-word\" fill=\"currentColor\" x=\"575\">pneumonia</tspan>\n",
       "    <tspan class=\"displacy-tag\" dy=\"2em\" fill=\"currentColor\" x=\"575\">PNEUMONIA</tspan>\n",
       "</text>\n",
       "\n",
       "<g class=\"displacy-arrow\">\n",
       "    <path class=\"displacy-arc\" id=\"arrow-1b7b2061b9a14bf7b87132b7250912fb-0-0\" stroke-width=\"2px\" d=\"M70,89.5 C70,2.0 575.0,2.0 575.0,89.5\" fill=\"none\" stroke=\"currentColor\"/>\n",
       "    <text dy=\"1.25em\" style=\"font-size: 0.8em; letter-spacing: 1px\">\n",
       "        <textPath xlink:href=\"#arrow-1b7b2061b9a14bf7b87132b7250912fb-0-0\" class=\"displacy-label\" startOffset=\"50%\" side=\"left\" fill=\"currentColor\" text-anchor=\"middle\">HISTORICAL</textPath>\n",
       "    </text>\n",
       "    <path class=\"displacy-arrowhead\" d=\"M575.0,91.5 L583.0,79.5 567.0,79.5\" fill=\"currentColor\"/>\n",
       "</g>\n",
       "</svg></span>"
      ],
      "text/plain": [
       "<IPython.core.display.HTML object>"
      ]
     },
     "metadata": {},
     "output_type": "display_data"
    },
    {
     "name": "stdout",
     "output_type": "stream",
     "text": [
      "pneumonia is_uncertain: False   is_negated: False   is_historical: True\n"
     ]
    },
    {
     "name": "stderr",
     "output_type": "stream",
     "text": [
      "D:\\Users\\u0752374\\.conda\\envs\\medspacy-spacy3\\lib\\site-packages\\spacy\\displacy\\__init__.py:65: DeprecationWarning: Importing display from IPython.core.display is deprecated since IPython 7.14, please import from IPython display\n",
      "  from IPython.core.display import display, HTML\n"
     ]
    },
    {
     "data": {
      "text/html": [
       "<span class=\"tex2jax_ignore\"><svg xmlns=\"http://www.w3.org/2000/svg\" xmlns:xlink=\"http://www.w3.org/1999/xlink\" xml:lang=\"en\" id=\"90d513ff1aa649eea7c80d18b9e8735e-0\" class=\"displacy\" width=\"1100\" height=\"312.0\" direction=\"ltr\" style=\"max-width: none; height: 312.0px; color: #000000; background: #ffffff; font-family: Arial; direction: ltr\">\n",
       "<text class=\"displacy-token\" fill=\"currentColor\" text-anchor=\"middle\" y=\"222.0\">\n",
       "    <tspan class=\"displacy-word\" fill=\"currentColor\" x=\"50\">No</tspan>\n",
       "    <tspan class=\"displacy-tag\" dy=\"2em\" fill=\"currentColor\" x=\"50\"></tspan>\n",
       "</text>\n",
       "\n",
       "<text class=\"displacy-token\" fill=\"currentColor\" text-anchor=\"middle\" y=\"222.0\">\n",
       "    <tspan class=\"displacy-word\" fill=\"currentColor\" x=\"225\">opacity</tspan>\n",
       "    <tspan class=\"displacy-tag\" dy=\"2em\" fill=\"currentColor\" x=\"225\">OPACITY</tspan>\n",
       "</text>\n",
       "\n",
       "<text class=\"displacy-token\" fill=\"currentColor\" text-anchor=\"middle\" y=\"222.0\">\n",
       "    <tspan class=\"displacy-word\" fill=\"currentColor\" x=\"400\">or</tspan>\n",
       "    <tspan class=\"displacy-tag\" dy=\"2em\" fill=\"currentColor\" x=\"400\"></tspan>\n",
       "</text>\n",
       "\n",
       "<text class=\"displacy-token\" fill=\"currentColor\" text-anchor=\"middle\" y=\"222.0\">\n",
       "    <tspan class=\"displacy-word\" fill=\"currentColor\" x=\"575\">evidence</tspan>\n",
       "    <tspan class=\"displacy-tag\" dy=\"2em\" fill=\"currentColor\" x=\"575\"></tspan>\n",
       "</text>\n",
       "\n",
       "<text class=\"displacy-token\" fill=\"currentColor\" text-anchor=\"middle\" y=\"222.0\">\n",
       "    <tspan class=\"displacy-word\" fill=\"currentColor\" x=\"750\">of</tspan>\n",
       "    <tspan class=\"displacy-tag\" dy=\"2em\" fill=\"currentColor\" x=\"750\"></tspan>\n",
       "</text>\n",
       "\n",
       "<text class=\"displacy-token\" fill=\"currentColor\" text-anchor=\"middle\" y=\"222.0\">\n",
       "    <tspan class=\"displacy-word\" fill=\"currentColor\" x=\"925\">pneumonia</tspan>\n",
       "    <tspan class=\"displacy-tag\" dy=\"2em\" fill=\"currentColor\" x=\"925\">PNEUMONIA</tspan>\n",
       "</text>\n",
       "\n",
       "<g class=\"displacy-arrow\">\n",
       "    <path class=\"displacy-arc\" id=\"arrow-90d513ff1aa649eea7c80d18b9e8735e-0-0\" stroke-width=\"2px\" d=\"M70,177.0 C70,89.5 220.0,89.5 220.0,177.0\" fill=\"none\" stroke=\"currentColor\"/>\n",
       "    <text dy=\"1.25em\" style=\"font-size: 0.8em; letter-spacing: 1px\">\n",
       "        <textPath xlink:href=\"#arrow-90d513ff1aa649eea7c80d18b9e8735e-0-0\" class=\"displacy-label\" startOffset=\"50%\" side=\"left\" fill=\"currentColor\" text-anchor=\"middle\">NEGATED_EXISTENCE</textPath>\n",
       "    </text>\n",
       "    <path class=\"displacy-arrowhead\" d=\"M220.0,179.0 L228.0,167.0 212.0,167.0\" fill=\"currentColor\"/>\n",
       "</g>\n",
       "\n",
       "<g class=\"displacy-arrow\">\n",
       "    <path class=\"displacy-arc\" id=\"arrow-90d513ff1aa649eea7c80d18b9e8735e-0-1\" stroke-width=\"2px\" d=\"M70,177.0 C70,2.0 925.0,2.0 925.0,177.0\" fill=\"none\" stroke=\"currentColor\"/>\n",
       "    <text dy=\"1.25em\" style=\"font-size: 0.8em; letter-spacing: 1px\">\n",
       "        <textPath xlink:href=\"#arrow-90d513ff1aa649eea7c80d18b9e8735e-0-1\" class=\"displacy-label\" startOffset=\"50%\" side=\"left\" fill=\"currentColor\" text-anchor=\"middle\">NEGATED_EXISTENCE</textPath>\n",
       "    </text>\n",
       "    <path class=\"displacy-arrowhead\" d=\"M925.0,179.0 L933.0,167.0 917.0,167.0\" fill=\"currentColor\"/>\n",
       "</g>\n",
       "</svg></span>"
      ],
      "text/plain": [
       "<IPython.core.display.HTML object>"
      ]
     },
     "metadata": {},
     "output_type": "display_data"
    },
    {
     "name": "stdout",
     "output_type": "stream",
     "text": [
      "opacity is_uncertain: False   is_negated: True   is_historical: False\n",
      "pneumonia is_uncertain: False   is_negated: True   is_historical: False\n"
     ]
    },
    {
     "name": "stderr",
     "output_type": "stream",
     "text": [
      "D:\\Users\\u0752374\\.conda\\envs\\medspacy-spacy3\\lib\\site-packages\\spacy\\displacy\\__init__.py:65: DeprecationWarning: Importing display from IPython.core.display is deprecated since IPython 7.14, please import from IPython display\n",
      "  from IPython.core.display import display, HTML\n"
     ]
    },
    {
     "data": {
      "text/html": [
       "<span class=\"tex2jax_ignore\"><svg xmlns=\"http://www.w3.org/2000/svg\" xmlns:xlink=\"http://www.w3.org/1999/xlink\" xml:lang=\"en\" id=\"b4b29f4122dd46928be8323e3a8e17aa-0\" class=\"displacy\" width=\"925\" height=\"224.5\" direction=\"ltr\" style=\"max-width: none; height: 224.5px; color: #000000; background: #ffffff; font-family: Arial; direction: ltr\">\n",
       "<text class=\"displacy-token\" fill=\"currentColor\" text-anchor=\"middle\" y=\"134.5\">\n",
       "    <tspan class=\"displacy-word\" fill=\"currentColor\" x=\"50\">Order</tspan>\n",
       "    <tspan class=\"displacy-tag\" dy=\"2em\" fill=\"currentColor\" x=\"50\"></tspan>\n",
       "</text>\n",
       "\n",
       "<text class=\"displacy-token\" fill=\"currentColor\" text-anchor=\"middle\" y=\"134.5\">\n",
       "    <tspan class=\"displacy-word\" fill=\"currentColor\" x=\"225\">CXR</tspan>\n",
       "    <tspan class=\"displacy-tag\" dy=\"2em\" fill=\"currentColor\" x=\"225\"></tspan>\n",
       "</text>\n",
       "\n",
       "<text class=\"displacy-token\" fill=\"currentColor\" text-anchor=\"middle\" y=\"134.5\">\n",
       "    <tspan class=\"displacy-word\" fill=\"currentColor\" x=\"400\">to</tspan>\n",
       "    <tspan class=\"displacy-tag\" dy=\"2em\" fill=\"currentColor\" x=\"400\"></tspan>\n",
       "</text>\n",
       "\n",
       "<text class=\"displacy-token\" fill=\"currentColor\" text-anchor=\"middle\" y=\"134.5\">\n",
       "    <tspan class=\"displacy-word\" fill=\"currentColor\" x=\"575\">r / o</tspan>\n",
       "    <tspan class=\"displacy-tag\" dy=\"2em\" fill=\"currentColor\" x=\"575\"></tspan>\n",
       "</text>\n",
       "\n",
       "<text class=\"displacy-token\" fill=\"currentColor\" text-anchor=\"middle\" y=\"134.5\">\n",
       "    <tspan class=\"displacy-word\" fill=\"currentColor\" x=\"750\">pna</tspan>\n",
       "    <tspan class=\"displacy-tag\" dy=\"2em\" fill=\"currentColor\" x=\"750\">PNEUMONIA</tspan>\n",
       "</text>\n",
       "\n",
       "<g class=\"displacy-arrow\">\n",
       "    <path class=\"displacy-arc\" id=\"arrow-b4b29f4122dd46928be8323e3a8e17aa-0-0\" stroke-width=\"2px\" d=\"M595,89.5 C595,2.0 750.0,2.0 750.0,89.5\" fill=\"none\" stroke=\"currentColor\"/>\n",
       "    <text dy=\"1.25em\" style=\"font-size: 0.8em; letter-spacing: 1px\">\n",
       "        <textPath xlink:href=\"#arrow-b4b29f4122dd46928be8323e3a8e17aa-0-0\" class=\"displacy-label\" startOffset=\"50%\" side=\"left\" fill=\"currentColor\" text-anchor=\"middle\">POSSIBLE_EXISTENCE</textPath>\n",
       "    </text>\n",
       "    <path class=\"displacy-arrowhead\" d=\"M750.0,91.5 L758.0,79.5 742.0,79.5\" fill=\"currentColor\"/>\n",
       "</g>\n",
       "</svg></span>"
      ],
      "text/plain": [
       "<IPython.core.display.HTML object>"
      ]
     },
     "metadata": {},
     "output_type": "display_data"
    },
    {
     "name": "stdout",
     "output_type": "stream",
     "text": [
      "pna is_uncertain: True   is_negated: False   is_historical: False\n"
     ]
    },
    {
     "name": "stderr",
     "output_type": "stream",
     "text": [
      "D:\\Users\\u0752374\\.conda\\envs\\medspacy-spacy3\\lib\\site-packages\\spacy\\displacy\\__init__.py:65: DeprecationWarning: Importing display from IPython.core.display is deprecated since IPython 7.14, please import from IPython display\n",
      "  from IPython.core.display import display, HTML\n"
     ]
    },
    {
     "data": {
      "text/html": [
       "<span class=\"tex2jax_ignore\"><svg xmlns=\"http://www.w3.org/2000/svg\" xmlns:xlink=\"http://www.w3.org/1999/xlink\" xml:lang=\"en\" id=\"e9bba50c58ce44a2995f84d3faf89082-0\" class=\"displacy\" width=\"1100\" height=\"224.5\" direction=\"ltr\" style=\"max-width: none; height: 224.5px; color: #000000; background: #ffffff; font-family: Arial; direction: ltr\">\n",
       "<text class=\"displacy-token\" fill=\"currentColor\" text-anchor=\"middle\" y=\"134.5\">\n",
       "    <tspan class=\"displacy-word\" fill=\"currentColor\" x=\"50\">No signs of</tspan>\n",
       "    <tspan class=\"displacy-tag\" dy=\"2em\" fill=\"currentColor\" x=\"50\"></tspan>\n",
       "</text>\n",
       "\n",
       "<text class=\"displacy-token\" fill=\"currentColor\" text-anchor=\"middle\" y=\"134.5\">\n",
       "    <tspan class=\"displacy-word\" fill=\"currentColor\" x=\"225\">infiltrate</tspan>\n",
       "    <tspan class=\"displacy-tag\" dy=\"2em\" fill=\"currentColor\" x=\"225\">INFILTRATE</tspan>\n",
       "</text>\n",
       "\n",
       "<text class=\"displacy-token\" fill=\"currentColor\" text-anchor=\"middle\" y=\"134.5\">\n",
       "    <tspan class=\"displacy-word\" fill=\"currentColor\" x=\"400\">but</tspan>\n",
       "    <tspan class=\"displacy-tag\" dy=\"2em\" fill=\"currentColor\" x=\"400\"></tspan>\n",
       "</text>\n",
       "\n",
       "<text class=\"displacy-token\" fill=\"currentColor\" text-anchor=\"middle\" y=\"134.5\">\n",
       "    <tspan class=\"displacy-word\" fill=\"currentColor\" x=\"575\">still</tspan>\n",
       "    <tspan class=\"displacy-tag\" dy=\"2em\" fill=\"currentColor\" x=\"575\"></tspan>\n",
       "</text>\n",
       "\n",
       "<text class=\"displacy-token\" fill=\"currentColor\" text-anchor=\"middle\" y=\"134.5\">\n",
       "    <tspan class=\"displacy-word\" fill=\"currentColor\" x=\"750\">suspect</tspan>\n",
       "    <tspan class=\"displacy-tag\" dy=\"2em\" fill=\"currentColor\" x=\"750\"></tspan>\n",
       "</text>\n",
       "\n",
       "<text class=\"displacy-token\" fill=\"currentColor\" text-anchor=\"middle\" y=\"134.5\">\n",
       "    <tspan class=\"displacy-word\" fill=\"currentColor\" x=\"925\">pneumonia</tspan>\n",
       "    <tspan class=\"displacy-tag\" dy=\"2em\" fill=\"currentColor\" x=\"925\">PNEUMONIA</tspan>\n",
       "</text>\n",
       "\n",
       "<g class=\"displacy-arrow\">\n",
       "    <path class=\"displacy-arc\" id=\"arrow-e9bba50c58ce44a2995f84d3faf89082-0-0\" stroke-width=\"2px\" d=\"M70,89.5 C70,2.0 225.0,2.0 225.0,89.5\" fill=\"none\" stroke=\"currentColor\"/>\n",
       "    <text dy=\"1.25em\" style=\"font-size: 0.8em; letter-spacing: 1px\">\n",
       "        <textPath xlink:href=\"#arrow-e9bba50c58ce44a2995f84d3faf89082-0-0\" class=\"displacy-label\" startOffset=\"50%\" side=\"left\" fill=\"currentColor\" text-anchor=\"middle\">NEGATED_EXISTENCE</textPath>\n",
       "    </text>\n",
       "    <path class=\"displacy-arrowhead\" d=\"M225.0,91.5 L233.0,79.5 217.0,79.5\" fill=\"currentColor\"/>\n",
       "</g>\n",
       "\n",
       "<g class=\"displacy-arrow\">\n",
       "    <path class=\"displacy-arc\" id=\"arrow-e9bba50c58ce44a2995f84d3faf89082-0-1\" stroke-width=\"2px\" d=\"M770,89.5 C770,2.0 925.0,2.0 925.0,89.5\" fill=\"none\" stroke=\"currentColor\"/>\n",
       "    <text dy=\"1.25em\" style=\"font-size: 0.8em; letter-spacing: 1px\">\n",
       "        <textPath xlink:href=\"#arrow-e9bba50c58ce44a2995f84d3faf89082-0-1\" class=\"displacy-label\" startOffset=\"50%\" side=\"left\" fill=\"currentColor\" text-anchor=\"middle\">POSSIBLE_EXISTENCE</textPath>\n",
       "    </text>\n",
       "    <path class=\"displacy-arrowhead\" d=\"M925.0,91.5 L933.0,79.5 917.0,79.5\" fill=\"currentColor\"/>\n",
       "</g>\n",
       "</svg></span>"
      ],
      "text/plain": [
       "<IPython.core.display.HTML object>"
      ]
     },
     "metadata": {},
     "output_type": "display_data"
    },
    {
     "name": "stdout",
     "output_type": "stream",
     "text": [
      "infiltrate is_uncertain: False   is_negated: True   is_historical: False\n",
      "pneumonia is_uncertain: True   is_negated: False   is_historical: False\n"
     ]
    }
   ],
   "source": [
    "texts = [\n",
    "    \"Recent diagnosis of pneumonia\",\n",
    "    \"No opacity or evidence of pneumonia\",\n",
    "    \"Order CXR to r/o pna\",\n",
    "    \"No signs of infiltrate but still suspect pneumonia\"\n",
    "]\n",
    "for text in texts:\n",
    "    doc = nlp_emergency(text)\n",
    "    visualize_dep(doc)\n",
    "    for ent in doc.ents:\n",
    "        print(ent, \"is_uncertain:\", ent._.is_uncertain, \n",
    "              \"  is_negated:\", ent._.is_negated, \n",
    "              \"  is_historical:\", ent._.is_historical)"
   ]
  },
  {
   "cell_type": "code",
   "execution_count": null,
   "id": "b331bef0",
   "metadata": {},
   "outputs": [],
   "source": []
  },
  {
   "cell_type": "markdown",
   "id": "b9d6db43",
   "metadata": {},
   "source": [
    "### Section detection\n",
    "The location of a mention of pneumonia is crucial for determing whether the provider believes the patient has pneumonia. Each of the different pipelines will look for different sections to determine a classification."
   ]
  },
  {
   "cell_type": "code",
   "execution_count": 21,
   "id": "fa2540c3",
   "metadata": {},
   "outputs": [
    {
     "name": "stdout",
     "output_type": "stream",
     "text": [
      "Emergency:\n"
     ]
    },
    {
     "name": "stderr",
     "output_type": "stream",
     "text": [
      "D:\\Users\\u0752374\\.conda\\envs\\medspacy-spacy3\\lib\\site-packages\\spacy\\displacy\\__init__.py:65: DeprecationWarning: Importing display from IPython.core.display is deprecated since IPython 7.14, please import from IPython display\n",
      "  from IPython.core.display import display, HTML\n"
     ]
    },
    {
     "data": {
      "text/html": [
       "<span class=\"tex2jax_ignore\"><div class=\"entities\" style=\"line-height: 2.5; direction: ltr\"></br>\n",
       "<mark class=\"entity\" style=\"background: #dee0e3; padding: 0.45em 0.6em; margin: 0 0.25em; line-height: 1; border-radius: 0.35em;\">\n",
       "    History of Present Illness:\n",
       "    <span style=\"font-size: 0.8em; font-weight: bold; line-height: 1; border-radius: 0.35em; vertical-align: middle; margin-left: 0.5rem\"><< HISTORY_OF_PRESENT_ILLNESS >></span>\n",
       "</mark>\n",
       " Patient presents to ED with cough and fever.\n",
       "<mark class=\"entity\" style=\"background: #dee0e3; padding: 0.45em 0.6em; margin: 0 0.25em; line-height: 1; border-radius: 0.35em;\">\n",
       "    \n",
       "\n",
       "Medical decision making\n",
       "    <span style=\"font-size: 0.8em; font-weight: bold; line-height: 1; border-radius: 0.35em; vertical-align: middle; margin-left: 0.5rem\"><< MEDICAL_DECISION_MAKING >></span>\n",
       "</mark>\n",
       ": \n",
       "<mark class=\"entity\" style=\"background: #1f77b4; padding: 0.45em 0.6em; margin: 0 0.25em; line-height: 1; border-radius: 0.35em;\">\n",
       "    Differential diagnoses\n",
       "    <span style=\"font-size: 0.8em; font-weight: bold; line-height: 1; border-radius: 0.35em; vertical-align: middle; margin-left: 0.5rem\">POSSIBLE_EXISTENCE</span>\n",
       "</mark>\n",
       " include \n",
       "<mark class=\"entity\" style=\"background: #ff7f0e; padding: 0.45em 0.6em; margin: 0 0.25em; line-height: 1; border-radius: 0.35em;\">\n",
       "    pna\n",
       "    <span style=\"font-size: 0.8em; font-weight: bold; line-height: 1; border-radius: 0.35em; vertical-align: middle; margin-left: 0.5rem\">PNEUMONIA</span>\n",
       "</mark>\n",
       " and CHF. </br>Will order a chest x-ray to \n",
       "<mark class=\"entity\" style=\"background: #1f77b4; padding: 0.45em 0.6em; margin: 0 0.25em; line-height: 1; border-radius: 0.35em;\">\n",
       "    r/o\n",
       "    <span style=\"font-size: 0.8em; font-weight: bold; line-height: 1; border-radius: 0.35em; vertical-align: middle; margin-left: 0.5rem\">POSSIBLE_EXISTENCE</span>\n",
       "</mark>\n",
       " \n",
       "<mark class=\"entity\" style=\"background: #ff7f0e; padding: 0.45em 0.6em; margin: 0 0.25em; line-height: 1; border-radius: 0.35em;\">\n",
       "    pneumonia\n",
       "    <span style=\"font-size: 0.8em; font-weight: bold; line-height: 1; border-radius: 0.35em; vertical-align: middle; margin-left: 0.5rem\">PNEUMONIA</span>\n",
       "</mark>\n",
       ".</br></br>\n",
       "<mark class=\"entity\" style=\"background: #dee0e3; padding: 0.45em 0.6em; margin: 0 0.25em; line-height: 1; border-radius: 0.35em;\">\n",
       "    Assessment/Plan:\n",
       "    <span style=\"font-size: 0.8em; font-weight: bold; line-height: 1; border-radius: 0.35em; vertical-align: middle; margin-left: 0.5rem\"><< OBSERVATION_AND_PLAN >></span>\n",
       "</mark>\n",
       "</br>Admit for \n",
       "<mark class=\"entity\" style=\"background: #1f77b4; padding: 0.45em 0.6em; margin: 0 0.25em; line-height: 1; border-radius: 0.35em;\">\n",
       "    suspected\n",
       "    <span style=\"font-size: 0.8em; font-weight: bold; line-height: 1; border-radius: 0.35em; vertical-align: middle; margin-left: 0.5rem\">POSSIBLE_EXISTENCE</span>\n",
       "</mark>\n",
       " community-acquired \n",
       "<mark class=\"entity\" style=\"background: #ff7f0e; padding: 0.45em 0.6em; margin: 0 0.25em; line-height: 1; border-radius: 0.35em;\">\n",
       "    pneumonia\n",
       "    <span style=\"font-size: 0.8em; font-weight: bold; line-height: 1; border-radius: 0.35em; vertical-align: middle; margin-left: 0.5rem\">PNEUMONIA</span>\n",
       "</mark>\n",
       ".</br></div></span>"
      ],
      "text/plain": [
       "<IPython.core.display.HTML object>"
      ]
     },
     "metadata": {},
     "output_type": "display_data"
    },
    {
     "name": "stdout",
     "output_type": "stream",
     "text": [
      "pna medical_decision_making\n",
      "pneumonia medical_decision_making\n",
      "pneumonia observation_and_plan\n",
      "\n",
      "Radiology:\n"
     ]
    },
    {
     "name": "stderr",
     "output_type": "stream",
     "text": [
      "D:\\Users\\u0752374\\.conda\\envs\\medspacy-spacy3\\lib\\site-packages\\spacy\\displacy\\__init__.py:65: DeprecationWarning: Importing display from IPython.core.display is deprecated since IPython 7.14, please import from IPython display\n",
      "  from IPython.core.display import display, HTML\n"
     ]
    },
    {
     "data": {
      "text/html": [
       "<span class=\"tex2jax_ignore\"><div class=\"entities\" style=\"line-height: 2.5; direction: ltr\"></br>\n",
       "<mark class=\"entity\" style=\"background: #dee0e3; padding: 0.45em 0.6em; margin: 0 0.25em; line-height: 1; border-radius: 0.35em;\">\n",
       "    Indication:\n",
       "    <span style=\"font-size: 0.8em; font-weight: bold; line-height: 1; border-radius: 0.35em; vertical-align: middle; margin-left: 0.5rem\"><< INDICATION >></span>\n",
       "</mark>\n",
       " \n",
       "<mark class=\"entity\" style=\"background: #2ca02c; padding: 0.45em 0.6em; margin: 0 0.25em; line-height: 1; border-radius: 0.35em;\">\n",
       "    Evaluate for\n",
       "    <span style=\"font-size: 0.8em; font-weight: bold; line-height: 1; border-radius: 0.35em; vertical-align: middle; margin-left: 0.5rem\">HYPOTHETICAL</span>\n",
       "</mark>\n",
       " \n",
       "<mark class=\"entity\" style=\"background: #d62728; padding: 0.45em 0.6em; margin: 0 0.25em; line-height: 1; border-radius: 0.35em;\">\n",
       "    pneumonia\n",
       "    <span style=\"font-size: 0.8em; font-weight: bold; line-height: 1; border-radius: 0.35em; vertical-align: middle; margin-left: 0.5rem\">PNEUMONIA</span>\n",
       "</mark>\n",
       ".</br></br>\n",
       "<mark class=\"entity\" style=\"background: #dee0e3; padding: 0.45em 0.6em; margin: 0 0.25em; line-height: 1; border-radius: 0.35em;\">\n",
       "    Findings:\n",
       "    <span style=\"font-size: 0.8em; font-weight: bold; line-height: 1; border-radius: 0.35em; vertical-align: middle; margin-left: 0.5rem\"><< IMPRESSION >></span>\n",
       "</mark>\n",
       " \n",
       "<mark class=\"entity\" style=\"background: #ff7f0e; padding: 0.45em 0.6em; margin: 0 0.25em; line-height: 1; border-radius: 0.35em;\">\n",
       "    Opacities\n",
       "    <span style=\"font-size: 0.8em; font-weight: bold; line-height: 1; border-radius: 0.35em; vertical-align: middle; margin-left: 0.5rem\">OPACITY</span>\n",
       "</mark>\n",
       " noted in the \n",
       "<mark class=\"entity\" style=\"background: #8c564b; padding: 0.45em 0.6em; margin: 0 0.25em; line-height: 1; border-radius: 0.35em;\">\n",
       "    left lower lobe\n",
       "    <span style=\"font-size: 0.8em; font-weight: bold; line-height: 1; border-radius: 0.35em; vertical-align: middle; margin-left: 0.5rem\">LOCALIZED_ANATOMY</span>\n",
       "</mark>\n",
       ". </br>\n",
       "<mark class=\"entity\" style=\"background: #9467bd; padding: 0.45em 0.6em; margin: 0 0.25em; line-height: 1; border-radius: 0.35em;\">\n",
       "    Possible\n",
       "    <span style=\"font-size: 0.8em; font-weight: bold; line-height: 1; border-radius: 0.35em; vertical-align: middle; margin-left: 0.5rem\">POSSIBLE_EXISTENCE</span>\n",
       "</mark>\n",
       " \n",
       "<mark class=\"entity\" style=\"background: #e377c2; padding: 0.45em 0.6em; margin: 0 0.25em; line-height: 1; border-radius: 0.35em;\">\n",
       "    infiltrates\n",
       "    <span style=\"font-size: 0.8em; font-weight: bold; line-height: 1; border-radius: 0.35em; vertical-align: middle; margin-left: 0.5rem\">INFILTRATE</span>\n",
       "</mark>\n",
       " representing \n",
       "<mark class=\"entity\" style=\"background: #1f77b4; padding: 0.45em 0.6em; margin: 0 0.25em; line-height: 1; border-radius: 0.35em;\">\n",
       "    atelectasis\n",
       "    <span style=\"font-size: 0.8em; font-weight: bold; line-height: 1; border-radius: 0.35em; vertical-align: middle; margin-left: 0.5rem\">ATELECTASIS</span>\n",
       "</mark>\n",
       " \n",
       "<mark class=\"entity\" style=\"background: #9467bd; padding: 0.45em 0.6em; margin: 0 0.25em; line-height: 1; border-radius: 0.35em;\">\n",
       "    vs\n",
       "    <span style=\"font-size: 0.8em; font-weight: bold; line-height: 1; border-radius: 0.35em; vertical-align: middle; margin-left: 0.5rem\">POSSIBLE_EXISTENCE</span>\n",
       "</mark>\n",
       " \n",
       "<mark class=\"entity\" style=\"background: #d62728; padding: 0.45em 0.6em; margin: 0 0.25em; line-height: 1; border-radius: 0.35em;\">\n",
       "    pneumonia\n",
       "    <span style=\"font-size: 0.8em; font-weight: bold; line-height: 1; border-radius: 0.35em; vertical-align: middle; margin-left: 0.5rem\">PNEUMONIA</span>\n",
       "</mark>\n",
       ".</br></br>\n",
       "<mark class=\"entity\" style=\"background: #dee0e3; padding: 0.45em 0.6em; margin: 0 0.25em; line-height: 1; border-radius: 0.35em;\">\n",
       "    Impression:\n",
       "    <span style=\"font-size: 0.8em; font-weight: bold; line-height: 1; border-radius: 0.35em; vertical-align: middle; margin-left: 0.5rem\"><< IMPRESSION >></span>\n",
       "</mark>\n",
       " Most \n",
       "<mark class=\"entity\" style=\"background: #9467bd; padding: 0.45em 0.6em; margin: 0 0.25em; line-height: 1; border-radius: 0.35em;\">\n",
       "    likely\n",
       "    <span style=\"font-size: 0.8em; font-weight: bold; line-height: 1; border-radius: 0.35em; vertical-align: middle; margin-left: 0.5rem\">POSSIBLE_EXISTENCE</span>\n",
       "</mark>\n",
       " \n",
       "<mark class=\"entity\" style=\"background: #d62728; padding: 0.45em 0.6em; margin: 0 0.25em; line-height: 1; border-radius: 0.35em;\">\n",
       "    pneumonia\n",
       "    <span style=\"font-size: 0.8em; font-weight: bold; line-height: 1; border-radius: 0.35em; vertical-align: middle; margin-left: 0.5rem\">PNEUMONIA</span>\n",
       "</mark>\n",
       ".</br></div></span>"
      ],
      "text/plain": [
       "<IPython.core.display.HTML object>"
      ]
     },
     "metadata": {},
     "output_type": "display_data"
    },
    {
     "name": "stdout",
     "output_type": "stream",
     "text": [
      "pneumonia indication\n",
      "Opacities impression\n",
      "infiltrates impression\n",
      "atelectasis impression\n",
      "pneumonia impression\n",
      "pneumonia impression\n",
      "\n",
      "Discharge:\n"
     ]
    },
    {
     "name": "stderr",
     "output_type": "stream",
     "text": [
      "D:\\Users\\u0752374\\.conda\\envs\\medspacy-spacy3\\lib\\site-packages\\spacy\\displacy\\__init__.py:65: DeprecationWarning: Importing display from IPython.core.display is deprecated since IPython 7.14, please import from IPython display\n",
      "  from IPython.core.display import display, HTML\n"
     ]
    },
    {
     "data": {
      "text/html": [
       "<span class=\"tex2jax_ignore\"><div class=\"entities\" style=\"line-height: 2.5; direction: ltr\">\n",
       "<mark class=\"entity\" style=\"background: #dee0e3; padding: 0.45em 0.6em; margin: 0 0.25em; line-height: 1; border-radius: 0.35em;\">\n",
       "    \n",
       "Hospital Course\n",
       "    <span style=\"font-size: 0.8em; font-weight: bold; line-height: 1; border-radius: 0.35em; vertical-align: middle; margin-left: 0.5rem\"><< HOSPITAL_COURSE >></span>\n",
       "</mark>\n",
       ": \n",
       "<mark class=\"entity\" style=\"background: #1f77b4; padding: 0.45em 0.6em; margin: 0 0.25em; line-height: 1; border-radius: 0.35em;\">\n",
       "    Initially\n",
       "    <span style=\"font-size: 0.8em; font-weight: bold; line-height: 1; border-radius: 0.35em; vertical-align: middle; margin-left: 0.5rem\">HISTORICAL</span>\n",
       "</mark>\n",
       " \n",
       "<mark class=\"entity\" style=\"background: #d62728; padding: 0.45em 0.6em; margin: 0 0.25em; line-height: 1; border-radius: 0.35em;\">\n",
       "    concern for\n",
       "    <span style=\"font-size: 0.8em; font-weight: bold; line-height: 1; border-radius: 0.35em; vertical-align: middle; margin-left: 0.5rem\">POSSIBLE_EXISTENCE</span>\n",
       "</mark>\n",
       " \n",
       "<mark class=\"entity\" style=\"background: #ff7f0e; padding: 0.45em 0.6em; margin: 0 0.25em; line-height: 1; border-radius: 0.35em;\">\n",
       "    pneumonia\n",
       "    <span style=\"font-size: 0.8em; font-weight: bold; line-height: 1; border-radius: 0.35em; vertical-align: middle; margin-left: 0.5rem\">PNEUMONIA</span>\n",
       "</mark>\n",
       ". </br>After admissions findings were found to be more \n",
       "<mark class=\"entity\" style=\"background: #d62728; padding: 0.45em 0.6em; margin: 0 0.25em; line-height: 1; border-radius: 0.35em;\">\n",
       "    consistent with\n",
       "    <span style=\"font-size: 0.8em; font-weight: bold; line-height: 1; border-radius: 0.35em; vertical-align: middle; margin-left: 0.5rem\">POSSIBLE_EXISTENCE</span>\n",
       "</mark>\n",
       " CHF and \n",
       "<mark class=\"entity\" style=\"background: #ff7f0e; padding: 0.45em 0.6em; margin: 0 0.25em; line-height: 1; border-radius: 0.35em;\">\n",
       "    pneumonia\n",
       "    <span style=\"font-size: 0.8em; font-weight: bold; line-height: 1; border-radius: 0.35em; vertical-align: middle; margin-left: 0.5rem\">PNEUMONIA</span>\n",
       "</mark>\n",
       " \n",
       "<mark class=\"entity\" style=\"background: #2ca02c; padding: 0.45em 0.6em; margin: 0 0.25em; line-height: 1; border-radius: 0.35em;\">\n",
       "    was ruled out\n",
       "    <span style=\"font-size: 0.8em; font-weight: bold; line-height: 1; border-radius: 0.35em; vertical-align: middle; margin-left: 0.5rem\">NEGATED_EXISTENCE</span>\n",
       "</mark>\n",
       ".</br></br>\n",
       "<mark class=\"entity\" style=\"background: #dee0e3; padding: 0.45em 0.6em; margin: 0 0.25em; line-height: 1; border-radius: 0.35em;\">\n",
       "    Final Diagnosis:\n",
       "    <span style=\"font-size: 0.8em; font-weight: bold; line-height: 1; border-radius: 0.35em; vertical-align: middle; margin-left: 0.5rem\"><< DISCHARGE_DIAGNOSES >></span>\n",
       "</mark>\n",
       " CHF</br></div></span>"
      ],
      "text/plain": [
       "<IPython.core.display.HTML object>"
      ]
     },
     "metadata": {},
     "output_type": "display_data"
    },
    {
     "name": "stdout",
     "output_type": "stream",
     "text": [
      "pneumonia hospital_course\n",
      "pneumonia hospital_course\n",
      "\n"
     ]
    }
   ],
   "source": [
    "for doc, domain in zip((doc_ed, doc_rad, doc_dc), (\"Emergency:\", \"Radiology:\", \"Discharge:\")):\n",
    "    print(domain)\n",
    "    visualize_ent(doc)\n",
    "    for ent in doc.ents:\n",
    "        print(ent, ent._.section_category)\n",
    "    print()"
   ]
  },
  {
   "cell_type": "code",
   "execution_count": null,
   "id": "726bd4c9",
   "metadata": {},
   "outputs": [],
   "source": []
  },
  {
   "cell_type": "markdown",
   "id": "3b4bdc6c",
   "metadata": {},
   "source": [
    "### Document classification\n",
    "Finally, the pipeline will make a classification based on the entities and their attributes. The next few notebooks will walk through the document classification logic for each note type."
   ]
  },
  {
   "cell_type": "code",
   "execution_count": null,
   "id": "ee7f72bd",
   "metadata": {},
   "outputs": [],
   "source": [
    " "
   ]
  }
 ],
 "metadata": {
  "kernelspec": {
   "display_name": "Python 3 (ipykernel)",
   "language": "python",
   "name": "python3"
  },
  "language_info": {
   "codemirror_mode": {
    "name": "ipython",
    "version": 3
   },
   "file_extension": ".py",
   "mimetype": "text/x-python",
   "name": "python",
   "nbconvert_exporter": "python",
   "pygments_lexer": "ipython3",
   "version": "3.8.13"
  }
 },
 "nbformat": 4,
 "nbformat_minor": 5
}
