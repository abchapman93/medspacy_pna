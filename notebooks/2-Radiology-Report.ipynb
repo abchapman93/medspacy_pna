{
 "cells": [
  {
   "cell_type": "code",
   "execution_count": 1,
   "id": "0f8b7c9a",
   "metadata": {},
   "outputs": [],
   "source": [
    "%load_ext autoreload\n",
    "%autoreload 2"
   ]
  },
  {
   "cell_type": "code",
   "execution_count": 2,
   "id": "9f31d8bb",
   "metadata": {},
   "outputs": [],
   "source": [
    "import os, sys\n",
    "sys.path.append(\"..\")"
   ]
  },
  {
   "cell_type": "markdown",
   "id": "f375bc3e",
   "metadata": {},
   "source": [
    "# Radiology Reports\n",
    "## Overview\n",
    "While working on a diagnosis, the provider will order procedures such as chest imaging to confirm a suspected diagnosis of pneumonia. The subsequent chest imaging report will contain a radiologist's finding and interpretations. This may contain explicit assertions of pneumonia or confirmation of pneumonia-related findings such as opacity or infiltrate.\n",
    "\n",
    "The diagram below walks through the logic used for classifying radiology reports. While the emergency classifier considered only the clinical concept of **\"Pneumonia\"**, the radiology classifier considers other concepts and makes some distinctions between them.\n",
    "![Radiology classification](./Radiology.png)"
   ]
  },
  {
   "cell_type": "markdown",
   "id": "698d0f7e",
   "metadata": {},
   "source": [
    "- First, the system looks for what we call **\"Tier 1\"** evidence which is uniquely interpreted as referring to pneumonia. The classes in this set are **\"Pneumonia\"** and **\"Consolidation\"**. If either of these concepts are explicitly asserted (either positive or negative assertions), this is used to make a document classification\n",
    "- In the absence of Tier 1 evidence, the NLP next looks for **\"Tier 2\"** evidence, which could be interpreted as pneumonia but needs some additional context. The Tier 2 concepts are **\"Infiltrate\"** and **\"Opacity\"**. If there are positive assertions of either of these, the system next attempts to see if these assertions indicate pneumonia.\n",
    "- A number of other diagnoses, such as atelectasis or pulmonary fibrosis, may have similar radiographic findings to pneumonia. The NLP will attempt to rule out any mentions of radiographic findings which are specifically linked to these conditions.\n",
    "\n"
   ]
  },
  {
   "cell_type": "code",
   "execution_count": 3,
   "id": "e8a4b18b",
   "metadata": {},
   "outputs": [],
   "source": [
    "from medspacy_pna import build_nlp\n",
    "from medspacy_pna.display import create_html\n",
    "from medspacy.visualization import visualize_ent\n",
    "from medspacy_pna.document_classification.radiology_document_classifier import TIER_2_CLASSES, ALTERNATE_DIAGNOSES\n",
    "from IPython.display import HTML"
   ]
  },
  {
   "cell_type": "code",
   "execution_count": 4,
   "id": "bf344ab3",
   "metadata": {},
   "outputs": [],
   "source": [
    "%%capture\n",
    "nlp_rad = build_nlp(\"radiology\")"
   ]
  },
  {
   "cell_type": "code",
   "execution_count": 5,
   "id": "37f2b2ce",
   "metadata": {},
   "outputs": [],
   "source": [
    "clf = nlp_rad.get_pipe(\"pneumonia_radiologydocumentclassifier\")"
   ]
  },
  {
   "cell_type": "code",
   "execution_count": 6,
   "id": "2240d3cd",
   "metadata": {},
   "outputs": [
    {
     "name": "stdout",
     "output_type": "stream",
     "text": [
      "{'CONSOLIDATION', 'OPACITY', 'PNEUMONIA', 'INFILTRATE'}\n"
     ]
    }
   ],
   "source": [
    "# Concepts which can be considered \"Positive\"\n",
    "print(clf.target_classes)"
   ]
  },
  {
   "cell_type": "code",
   "execution_count": 7,
   "id": "5cccf816",
   "metadata": {},
   "outputs": [
    {
     "name": "stdout",
     "output_type": "stream",
     "text": [
      "{'OPACITY', 'INFILTRATE'}\n",
      "{'ATELECTASIS', 'INTERSTITIAL_LUNG_DISEASE', 'FIBROSIS', 'PULMONARY_EDEMA'}\n"
     ]
    }
   ],
   "source": [
    "# Concepts which may be linked to other diagnosis\n",
    "print(TIER_2_CLASSES)\n",
    "print(ALTERNATE_DIAGNOSES)"
   ]
  },
  {
   "cell_type": "code",
   "execution_count": 8,
   "id": "6ad1b3c1",
   "metadata": {},
   "outputs": [
    {
     "data": {
      "text/plain": [
       "['tok2vec',\n",
       " 'tagger',\n",
       " 'parser',\n",
       " 'medspacy_concept_tagger',\n",
       " 'medspacy_target_matcher',\n",
       " 'medspacy_context',\n",
       " 'medspacy_sectionizer',\n",
       " 'medspacy_postprocessor',\n",
       " 'pneumonia_radiologydocumentclassifier']"
      ]
     },
     "execution_count": 8,
     "metadata": {},
     "output_type": "execute_result"
    }
   ],
   "source": [
    "nlp_rad.pipe_names"
   ]
  },
  {
   "cell_type": "markdown",
   "id": "705f9993",
   "metadata": {},
   "source": [
    "## Example 1: Positive Pneumonia"
   ]
  },
  {
   "cell_type": "code",
   "execution_count": 9,
   "id": "f2822af8",
   "metadata": {},
   "outputs": [
    {
     "name": "stderr",
     "output_type": "stream",
     "text": [
      "D:\\Users\\u0752374\\.conda\\envs\\medspacy-spacy3\\lib\\site-packages\\medspacy\\common\\medspacy_matcher.py:80: UserWarning: [W036] The component 'matcher' does not have any patterns defined.\n",
      "  matches = self.matcher(doc)\n"
     ]
    }
   ],
   "source": [
    "text = \"\"\"\n",
    "Impression: Findings are suggestive of pneumonia.\n",
    "\"\"\"\n",
    "doc = nlp_rad(text)"
   ]
  },
  {
   "cell_type": "code",
   "execution_count": 10,
   "id": "34fe5d22",
   "metadata": {},
   "outputs": [
    {
     "data": {
      "text/html": [
       "<h1>Legend</h1>\n",
       "<mark class=\"entity\" style=\"background: #ff8c8c; padding: 0.25em 0.6em; margin: 0 0.25em; line-height: 1.5; border-radius: 0.35em;\">\n",
       "    \n",
       "<span style=\"font-size: 1.0em; font-weight: bold; line-height: 2.5; border-radius: 0.35em; vertical-align: middle; margin-left: 0.5rem\">Pneumonia</span>\n",
       "</mark>\n",
       "\n",
       "<mark class=\"entity\" style=\"background: #e3dede; padding: 0.25em 0.6em; margin: 0 0.25em; line-height: 1.5; border-radius: 0.35em;\">\n",
       "    \n",
       "<span style=\"font-size: 1.0em; font-weight: bold; line-height: 2.5; border-radius: 0.35em; vertical-align: middle; margin-left: 0.5rem\">Assertion Modifier</span>\n",
       "</mark>\n",
       "\n",
       "<mark class=\"entity\" style=\"background: #96eaf2; padding: 0.25em 0.6em; margin: 0 0.25em; line-height: 1.5; border-radius: 0.35em;\">\n",
       "    \n",
       "<span style=\"font-size: 1.0em; font-weight: bold; line-height: 2.5; border-radius: 0.35em; vertical-align: middle; margin-left: 0.5rem\">Primary Section Title</span>\n",
       "</mark>\n",
       "\n",
       "<mark class=\"entity\" style=\"background: #c8fae4; padding: 0.25em 0.6em; margin: 0 0.25em; line-height: 1.5; border-radius: 0.35em;\">\n",
       "    \n",
       "<span style=\"font-size: 1.0em; font-weight: bold; line-height: 2.5; border-radius: 0.35em; vertical-align: middle; margin-left: 0.5rem\">Other Section Title</span>\n",
       "</mark>\n",
       "</br><h1>Radiology Report</h1><h2>NLP Document Classification: POS</h2><div class=\"entities\" style=\"line-height: 1.25; direction: ltr\"></br>\n",
       "<mark class=\"entity\" style=\"background: #96eaf2; padding: 0.25em 0.6em; margin: 0 0.25em; line-height: 1.5; border-radius: 0.35em;\">\n",
       "    Impression:\n",
       "    <span style=\"font-size: 0.8em; font-weight: bold; line-height: 2.5; border-radius: 0.35em; vertical-align: middle; margin-left: 0.5rem\"><< IMPRESSION >></span>\n",
       "</mark>\n",
       " Findings are suggestive of \n",
       "<mark class=\"entity\" style=\"background: #ff8c8c; padding: 0.25em 0.6em; margin: 0 0.25em; line-height: 1.5; border-radius: 0.35em;\">\n",
       "    pneumonia\n",
       "    <span style=\"font-size: 0.8em; font-weight: bold; line-height: 2.5; border-radius: 0.35em; vertical-align: middle; margin-left: 0.5rem\">PNEUMONIA</span>\n",
       "</mark>\n",
       ".</br></div>"
      ],
      "text/plain": [
       "<IPython.core.display.HTML object>"
      ]
     },
     "execution_count": 10,
     "metadata": {},
     "output_type": "execute_result"
    }
   ],
   "source": [
    "HTML(create_html(doc, \"radiology\", document_classification=True))"
   ]
  },
  {
   "cell_type": "code",
   "execution_count": 11,
   "id": "ef6c4614",
   "metadata": {},
   "outputs": [
    {
     "name": "stdout",
     "output_type": "stream",
     "text": [
      "pneumonia PNEUMONIA impression\n"
     ]
    }
   ],
   "source": [
    "for ent in doc.ents:\n",
    "    print(ent, ent.label_, ent._.section_category)"
   ]
  },
  {
   "cell_type": "code",
   "execution_count": 12,
   "id": "a7caf321",
   "metadata": {},
   "outputs": [
    {
     "name": "stdout",
     "output_type": "stream",
     "text": [
      "POS\n"
     ]
    }
   ],
   "source": [
    "print(doc._.document_classification)"
   ]
  },
  {
   "cell_type": "markdown",
   "id": "d3f909bb",
   "metadata": {},
   "source": [
    "## Example 2: Positive radiographic findings"
   ]
  },
  {
   "cell_type": "code",
   "execution_count": 13,
   "id": "fa838e48",
   "metadata": {},
   "outputs": [
    {
     "name": "stderr",
     "output_type": "stream",
     "text": [
      "D:\\Users\\u0752374\\.conda\\envs\\medspacy-spacy3\\lib\\site-packages\\medspacy\\common\\medspacy_matcher.py:80: UserWarning: [W036] The component 'matcher' does not have any patterns defined.\n",
      "  matches = self.matcher(doc)\n"
     ]
    }
   ],
   "source": [
    "text = \"\"\"\n",
    "Findings: Some ground glass opacities are present.\n",
    "\"\"\"\n",
    "doc = nlp_rad(text)"
   ]
  },
  {
   "cell_type": "code",
   "execution_count": 14,
   "id": "bba54f61",
   "metadata": {},
   "outputs": [
    {
     "data": {
      "text/html": [
       "<h1>Legend</h1>\n",
       "<mark class=\"entity\" style=\"background: #ff8c8c; padding: 0.25em 0.6em; margin: 0 0.25em; line-height: 1.5; border-radius: 0.35em;\">\n",
       "    \n",
       "<span style=\"font-size: 1.0em; font-weight: bold; line-height: 2.5; border-radius: 0.35em; vertical-align: middle; margin-left: 0.5rem\">Pneumonia</span>\n",
       "</mark>\n",
       "\n",
       "<mark class=\"entity\" style=\"background: #e3dede; padding: 0.25em 0.6em; margin: 0 0.25em; line-height: 1.5; border-radius: 0.35em;\">\n",
       "    \n",
       "<span style=\"font-size: 1.0em; font-weight: bold; line-height: 2.5; border-radius: 0.35em; vertical-align: middle; margin-left: 0.5rem\">Assertion Modifier</span>\n",
       "</mark>\n",
       "\n",
       "<mark class=\"entity\" style=\"background: #96eaf2; padding: 0.25em 0.6em; margin: 0 0.25em; line-height: 1.5; border-radius: 0.35em;\">\n",
       "    \n",
       "<span style=\"font-size: 1.0em; font-weight: bold; line-height: 2.5; border-radius: 0.35em; vertical-align: middle; margin-left: 0.5rem\">Primary Section Title</span>\n",
       "</mark>\n",
       "\n",
       "<mark class=\"entity\" style=\"background: #c8fae4; padding: 0.25em 0.6em; margin: 0 0.25em; line-height: 1.5; border-radius: 0.35em;\">\n",
       "    \n",
       "<span style=\"font-size: 1.0em; font-weight: bold; line-height: 2.5; border-radius: 0.35em; vertical-align: middle; margin-left: 0.5rem\">Other Section Title</span>\n",
       "</mark>\n",
       "</br><h1>Radiology Report</h1><h2>NLP Document Classification: POS</h2><div class=\"entities\" style=\"line-height: 1.25; direction: ltr\"></br>\n",
       "<mark class=\"entity\" style=\"background: #96eaf2; padding: 0.25em 0.6em; margin: 0 0.25em; line-height: 1.5; border-radius: 0.35em;\">\n",
       "    Findings:\n",
       "    <span style=\"font-size: 0.8em; font-weight: bold; line-height: 2.5; border-radius: 0.35em; vertical-align: middle; margin-left: 0.5rem\"><< IMPRESSION >></span>\n",
       "</mark>\n",
       " Some ground glass \n",
       "<mark class=\"entity\" style=\"background: #ff8c8c; padding: 0.25em 0.6em; margin: 0 0.25em; line-height: 1.5; border-radius: 0.35em;\">\n",
       "    opacities\n",
       "    <span style=\"font-size: 0.8em; font-weight: bold; line-height: 2.5; border-radius: 0.35em; vertical-align: middle; margin-left: 0.5rem\">OPACITY</span>\n",
       "</mark>\n",
       " are present.</br></div>"
      ],
      "text/plain": [
       "<IPython.core.display.HTML object>"
      ]
     },
     "execution_count": 14,
     "metadata": {},
     "output_type": "execute_result"
    }
   ],
   "source": [
    "HTML(create_html(doc, \"radiology\", document_classification=True))"
   ]
  },
  {
   "cell_type": "code",
   "execution_count": 15,
   "id": "34be0dab",
   "metadata": {},
   "outputs": [
    {
     "name": "stdout",
     "output_type": "stream",
     "text": [
      "opacities OPACITY impression\n"
     ]
    }
   ],
   "source": [
    "for ent in doc.ents:\n",
    "    print(ent, ent.label_, ent._.section_category)"
   ]
  },
  {
   "cell_type": "code",
   "execution_count": 16,
   "id": "1f56dc69",
   "metadata": {},
   "outputs": [
    {
     "name": "stdout",
     "output_type": "stream",
     "text": [
      "POS\n"
     ]
    }
   ],
   "source": [
    "print(doc._.document_classification)"
   ]
  },
  {
   "cell_type": "code",
   "execution_count": null,
   "id": "32c3e160",
   "metadata": {},
   "outputs": [],
   "source": []
  },
  {
   "cell_type": "markdown",
   "id": "6cc097f0",
   "metadata": {},
   "source": [
    "## Example 3: Negative radiographic findings"
   ]
  },
  {
   "cell_type": "code",
   "execution_count": 17,
   "id": "4b30158f",
   "metadata": {},
   "outputs": [
    {
     "name": "stderr",
     "output_type": "stream",
     "text": [
      "D:\\Users\\u0752374\\.conda\\envs\\medspacy-spacy3\\lib\\site-packages\\medspacy\\common\\medspacy_matcher.py:80: UserWarning: [W036] The component 'matcher' does not have any patterns defined.\n",
      "  matches = self.matcher(doc)\n"
     ]
    }
   ],
   "source": [
    "text = \"\"\"\n",
    "Indication: Rule out pneumonia\n",
    "\n",
    "Findings: No opacities or infiltrate.\n",
    "\"\"\"\n",
    "doc = nlp_rad(text)"
   ]
  },
  {
   "cell_type": "code",
   "execution_count": 18,
   "id": "f186e451",
   "metadata": {},
   "outputs": [
    {
     "data": {
      "text/html": [
       "<h1>Legend</h1>\n",
       "<mark class=\"entity\" style=\"background: #ff8c8c; padding: 0.25em 0.6em; margin: 0 0.25em; line-height: 1.5; border-radius: 0.35em;\">\n",
       "    \n",
       "<span style=\"font-size: 1.0em; font-weight: bold; line-height: 2.5; border-radius: 0.35em; vertical-align: middle; margin-left: 0.5rem\">Pneumonia</span>\n",
       "</mark>\n",
       "\n",
       "<mark class=\"entity\" style=\"background: #e3dede; padding: 0.25em 0.6em; margin: 0 0.25em; line-height: 1.5; border-radius: 0.35em;\">\n",
       "    \n",
       "<span style=\"font-size: 1.0em; font-weight: bold; line-height: 2.5; border-radius: 0.35em; vertical-align: middle; margin-left: 0.5rem\">Assertion Modifier</span>\n",
       "</mark>\n",
       "\n",
       "<mark class=\"entity\" style=\"background: #96eaf2; padding: 0.25em 0.6em; margin: 0 0.25em; line-height: 1.5; border-radius: 0.35em;\">\n",
       "    \n",
       "<span style=\"font-size: 1.0em; font-weight: bold; line-height: 2.5; border-radius: 0.35em; vertical-align: middle; margin-left: 0.5rem\">Primary Section Title</span>\n",
       "</mark>\n",
       "\n",
       "<mark class=\"entity\" style=\"background: #c8fae4; padding: 0.25em 0.6em; margin: 0 0.25em; line-height: 1.5; border-radius: 0.35em;\">\n",
       "    \n",
       "<span style=\"font-size: 1.0em; font-weight: bold; line-height: 2.5; border-radius: 0.35em; vertical-align: middle; margin-left: 0.5rem\">Other Section Title</span>\n",
       "</mark>\n",
       "</br><h1>Radiology Report</h1><h2>NLP Document Classification: NEG</h2><div class=\"entities\" style=\"line-height: 1.25; direction: ltr\"></br>\n",
       "<mark class=\"entity\" style=\"background: #c8fae4; padding: 0.25em 0.6em; margin: 0 0.25em; line-height: 1.5; border-radius: 0.35em;\">\n",
       "    Indication:\n",
       "    <span style=\"font-size: 0.8em; font-weight: bold; line-height: 2.5; border-radius: 0.35em; vertical-align: middle; margin-left: 0.5rem\"><< INDICATION >></span>\n",
       "</mark>\n",
       " \n",
       "<mark class=\"entity\" style=\"background: #ddd; padding: 0.25em 0.6em; margin: 0 0.25em; line-height: 1.5; border-radius: 0.35em;\">\n",
       "    Rule out\n",
       "    <span style=\"font-size: 0.8em; font-weight: bold; line-height: 2.5; border-radius: 0.35em; vertical-align: middle; margin-left: 0.5rem\">HYPOTHETICAL</span>\n",
       "</mark>\n",
       " \n",
       "<mark class=\"entity\" style=\"background: #ff8c8c; padding: 0.25em 0.6em; margin: 0 0.25em; line-height: 1.5; border-radius: 0.35em;\">\n",
       "    pneumonia\n",
       "    <span style=\"font-size: 0.8em; font-weight: bold; line-height: 2.5; border-radius: 0.35em; vertical-align: middle; margin-left: 0.5rem\">PNEUMONIA</span>\n",
       "</mark>\n",
       "</br></br>\n",
       "<mark class=\"entity\" style=\"background: #96eaf2; padding: 0.25em 0.6em; margin: 0 0.25em; line-height: 1.5; border-radius: 0.35em;\">\n",
       "    Findings:\n",
       "    <span style=\"font-size: 0.8em; font-weight: bold; line-height: 2.5; border-radius: 0.35em; vertical-align: middle; margin-left: 0.5rem\"><< IMPRESSION >></span>\n",
       "</mark>\n",
       " \n",
       "<mark class=\"entity\" style=\"background: #e3dede; padding: 0.25em 0.6em; margin: 0 0.25em; line-height: 1.5; border-radius: 0.35em;\">\n",
       "    No\n",
       "    <span style=\"font-size: 0.8em; font-weight: bold; line-height: 2.5; border-radius: 0.35em; vertical-align: middle; margin-left: 0.5rem\">NEGATED_EXISTENCE</span>\n",
       "</mark>\n",
       " \n",
       "<mark class=\"entity\" style=\"background: #ff8c8c; padding: 0.25em 0.6em; margin: 0 0.25em; line-height: 1.5; border-radius: 0.35em;\">\n",
       "    opacities\n",
       "    <span style=\"font-size: 0.8em; font-weight: bold; line-height: 2.5; border-radius: 0.35em; vertical-align: middle; margin-left: 0.5rem\">OPACITY</span>\n",
       "</mark>\n",
       " or \n",
       "<mark class=\"entity\" style=\"background: #ff8c8c; padding: 0.25em 0.6em; margin: 0 0.25em; line-height: 1.5; border-radius: 0.35em;\">\n",
       "    infiltrate\n",
       "    <span style=\"font-size: 0.8em; font-weight: bold; line-height: 2.5; border-radius: 0.35em; vertical-align: middle; margin-left: 0.5rem\">INFILTRATE</span>\n",
       "</mark>\n",
       ".</br></div>"
      ],
      "text/plain": [
       "<IPython.core.display.HTML object>"
      ]
     },
     "execution_count": 18,
     "metadata": {},
     "output_type": "execute_result"
    }
   ],
   "source": [
    "HTML(create_html(doc, \"radiology\", document_classification=True))"
   ]
  },
  {
   "cell_type": "code",
   "execution_count": 19,
   "id": "e9538ae6",
   "metadata": {},
   "outputs": [
    {
     "name": "stdout",
     "output_type": "stream",
     "text": [
      "pneumonia PNEUMONIA indication\n",
      "opacities OPACITY impression\n",
      "infiltrate INFILTRATE impression\n"
     ]
    }
   ],
   "source": [
    "for ent in doc.ents:\n",
    "    print(ent, ent.label_, ent._.section_category)"
   ]
  },
  {
   "cell_type": "code",
   "execution_count": 20,
   "id": "2dc55b3d",
   "metadata": {},
   "outputs": [
    {
     "name": "stdout",
     "output_type": "stream",
     "text": [
      "NEG\n"
     ]
    }
   ],
   "source": [
    "print(doc._.document_classification)"
   ]
  },
  {
   "cell_type": "code",
   "execution_count": null,
   "id": "86d33b22",
   "metadata": {},
   "outputs": [],
   "source": []
  },
  {
   "cell_type": "markdown",
   "id": "51c44a66",
   "metadata": {},
   "source": [
    "## Example 4: Alternate diagnosis"
   ]
  },
  {
   "cell_type": "code",
   "execution_count": 21,
   "id": "eaef3fc0",
   "metadata": {},
   "outputs": [
    {
     "name": "stderr",
     "output_type": "stream",
     "text": [
      "D:\\Users\\u0752374\\.conda\\envs\\medspacy-spacy3\\lib\\site-packages\\medspacy\\common\\medspacy_matcher.py:80: UserWarning: [W036] The component 'matcher' does not have any patterns defined.\n",
      "  matches = self.matcher(doc)\n"
     ]
    }
   ],
   "source": [
    "text = \"\"\"\n",
    "Infiltrate is present and likely represents atelectasis.\n",
    "\"\"\"\n",
    "doc = nlp_rad(text)"
   ]
  },
  {
   "cell_type": "code",
   "execution_count": 22,
   "id": "df1fd93b",
   "metadata": {},
   "outputs": [
    {
     "data": {
      "text/html": [
       "<h1>Legend</h1>\n",
       "<mark class=\"entity\" style=\"background: #ff8c8c; padding: 0.25em 0.6em; margin: 0 0.25em; line-height: 1.5; border-radius: 0.35em;\">\n",
       "    \n",
       "<span style=\"font-size: 1.0em; font-weight: bold; line-height: 2.5; border-radius: 0.35em; vertical-align: middle; margin-left: 0.5rem\">Pneumonia</span>\n",
       "</mark>\n",
       "\n",
       "<mark class=\"entity\" style=\"background: #e3dede; padding: 0.25em 0.6em; margin: 0 0.25em; line-height: 1.5; border-radius: 0.35em;\">\n",
       "    \n",
       "<span style=\"font-size: 1.0em; font-weight: bold; line-height: 2.5; border-radius: 0.35em; vertical-align: middle; margin-left: 0.5rem\">Assertion Modifier</span>\n",
       "</mark>\n",
       "\n",
       "<mark class=\"entity\" style=\"background: #96eaf2; padding: 0.25em 0.6em; margin: 0 0.25em; line-height: 1.5; border-radius: 0.35em;\">\n",
       "    \n",
       "<span style=\"font-size: 1.0em; font-weight: bold; line-height: 2.5; border-radius: 0.35em; vertical-align: middle; margin-left: 0.5rem\">Primary Section Title</span>\n",
       "</mark>\n",
       "\n",
       "<mark class=\"entity\" style=\"background: #c8fae4; padding: 0.25em 0.6em; margin: 0 0.25em; line-height: 1.5; border-radius: 0.35em;\">\n",
       "    \n",
       "<span style=\"font-size: 1.0em; font-weight: bold; line-height: 2.5; border-radius: 0.35em; vertical-align: middle; margin-left: 0.5rem\">Other Section Title</span>\n",
       "</mark>\n",
       "</br><h1>Radiology Report</h1><h2>NLP Document Classification: NEG</h2><div class=\"entities\" style=\"line-height: 1.25; direction: ltr\"></br>\n",
       "<mark class=\"entity\" style=\"background: #ff8c8c; padding: 0.25em 0.6em; margin: 0 0.25em; line-height: 1.5; border-radius: 0.35em;\">\n",
       "    Infiltrate\n",
       "    <span style=\"font-size: 0.8em; font-weight: bold; line-height: 2.5; border-radius: 0.35em; vertical-align: middle; margin-left: 0.5rem\">INFILTRATE</span>\n",
       "</mark>\n",
       " \n",
       "<mark class=\"entity\" style=\"background: #e3dede; padding: 0.25em 0.6em; margin: 0 0.25em; line-height: 1.5; border-radius: 0.35em;\">\n",
       "    is present\n",
       "    <span style=\"font-size: 0.8em; font-weight: bold; line-height: 2.5; border-radius: 0.35em; vertical-align: middle; margin-left: 0.5rem\">POSITIVE_EXISTENCE</span>\n",
       "</mark>\n",
       " and likely represents atelectasis.</br></div>"
      ],
      "text/plain": [
       "<IPython.core.display.HTML object>"
      ]
     },
     "execution_count": 22,
     "metadata": {},
     "output_type": "execute_result"
    }
   ],
   "source": [
    "# In this example, \"atelectasis\" isn't highlighted since only target concepts \n",
    "# are highlighted in the provider view\n",
    "HTML(create_html(doc, \"radiology\", document_classification=True))"
   ]
  },
  {
   "cell_type": "code",
   "execution_count": 23,
   "id": "24149050",
   "metadata": {},
   "outputs": [
    {
     "name": "stdout",
     "output_type": "stream",
     "text": [
      "\n",
      " \n",
      "Infiltrate INFILTRATE\n",
      "is \n",
      "present \n",
      "and \n",
      "likely \n",
      "represents \n",
      "atelectasis ATELECTASIS\n",
      ". \n",
      "\n",
      " \n"
     ]
    }
   ],
   "source": [
    "for token in doc:\n",
    "    print(token, token._.concept_tag)"
   ]
  },
  {
   "cell_type": "code",
   "execution_count": 24,
   "id": "e7ba39a6",
   "metadata": {},
   "outputs": [
    {
     "name": "stdout",
     "output_type": "stream",
     "text": [
      "Infiltrate INFILTRATE None False\n",
      "atelectasis ATELECTASIS None False\n"
     ]
    }
   ],
   "source": [
    "for ent in doc.ents:\n",
    "    print(ent, ent.label_, ent._.section_category, ent._.is_negated)"
   ]
  },
  {
   "cell_type": "code",
   "execution_count": null,
   "id": "66683665",
   "metadata": {},
   "outputs": [],
   "source": []
  },
  {
   "cell_type": "markdown",
   "id": "df330b92",
   "metadata": {},
   "source": [
    "## Alternate schemas\n",
    "The classification schema described here was the highest performing in the validation study. However, other schemas are possible and may perform better for a particular use case."
   ]
  },
  {
   "cell_type": "code",
   "execution_count": 25,
   "id": "703c243b",
   "metadata": {},
   "outputs": [],
   "source": [
    "text = \"\"\"\n",
    "Indication: rule out pneumonia.\n",
    "\n",
    "Impression: There is some opacity present. It could represent atelectasis.\n",
    "\"\"\""
   ]
  },
  {
   "cell_type": "code",
   "execution_count": 26,
   "id": "56349ab0",
   "metadata": {},
   "outputs": [
    {
     "name": "stderr",
     "output_type": "stream",
     "text": [
      "D:\\Users\\u0752374\\.conda\\envs\\medspacy-spacy3\\lib\\site-packages\\medspacy\\common\\medspacy_matcher.py:80: UserWarning: [W036] The component 'matcher' does not have any patterns defined.\n",
      "  matches = self.matcher(doc)\n"
     ]
    }
   ],
   "source": [
    "doc = nlp_rad(text, disable=[\"pneumonia_radiologydocumentclassifier\"])"
   ]
  },
  {
   "cell_type": "code",
   "execution_count": 27,
   "id": "30e0b9b9",
   "metadata": {},
   "outputs": [],
   "source": [
    "clf = nlp_rad.get_pipe(\"pneumonia_radiologydocumentclassifier\")"
   ]
  },
  {
   "cell_type": "markdown",
   "id": "8139fb2c",
   "metadata": {},
   "source": [
    "The default schema, **\"linked\"**, looks explicitly in the same sentence as a finding to link it to an alternate diagnosis. So in the example above, although atelectasis is listed as the likely diagnosis, it won't be linked to the opacity because it's in a different sentence."
   ]
  },
  {
   "cell_type": "code",
   "execution_count": 28,
   "id": "a2b59842",
   "metadata": {},
   "outputs": [
    {
     "data": {
      "text/plain": [
       "'POS'"
      ]
     },
     "execution_count": 28,
     "metadata": {},
     "output_type": "execute_result"
    }
   ],
   "source": [
    "clf.classify_document(doc, classification_schema=\"linked\")"
   ]
  },
  {
   "cell_type": "markdown",
   "id": "e902bd9d",
   "metadata": {},
   "source": [
    "The **\"full\"** schema will look in the entire document for alternate diagnoses That will work better in cases like this, but will cause false negatives if another diagnosis is mentioned but isn't actually related to the finding. We prioritized recall over precision so favored the \"linked\" schema."
   ]
  },
  {
   "cell_type": "code",
   "execution_count": 29,
   "id": "cb0bfe6f",
   "metadata": {},
   "outputs": [
    {
     "data": {
      "text/plain": [
       "'NEG'"
      ]
     },
     "execution_count": 29,
     "metadata": {},
     "output_type": "execute_result"
    }
   ],
   "source": [
    "clf.classify_document(doc, classification_schema=\"full\")"
   ]
  },
  {
   "cell_type": "markdown",
   "id": "5a0fab4d",
   "metadata": {},
   "source": [
    "Finally, the **\"attributes\"** schema will not consider alternate diagnosis and makes a classification purely based on the target concepts and their attributes (negation, uncertainty, etc.)"
   ]
  },
  {
   "cell_type": "code",
   "execution_count": 30,
   "id": "15b50cd0",
   "metadata": {},
   "outputs": [
    {
     "data": {
      "text/plain": [
       "'POS'"
      ]
     },
     "execution_count": 30,
     "metadata": {},
     "output_type": "execute_result"
    }
   ],
   "source": [
    "clf.classify_document(doc, classification_schema=\"attributes\")"
   ]
  },
  {
   "cell_type": "code",
   "execution_count": null,
   "id": "d63d5c95",
   "metadata": {},
   "outputs": [],
   "source": []
  }
 ],
 "metadata": {
  "kernelspec": {
   "display_name": "Python 3 (ipykernel)",
   "language": "python",
   "name": "python3"
  },
  "language_info": {
   "codemirror_mode": {
    "name": "ipython",
    "version": 3
   },
   "file_extension": ".py",
   "mimetype": "text/x-python",
   "name": "python",
   "nbconvert_exporter": "python",
   "pygments_lexer": "ipython3",
   "version": "3.8.13"
  }
 },
 "nbformat": 4,
 "nbformat_minor": 5
}
