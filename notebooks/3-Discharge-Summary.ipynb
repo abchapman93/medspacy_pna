{
 "cells": [
  {
   "cell_type": "code",
   "execution_count": 1,
   "id": "0f8b7c9a",
   "metadata": {},
   "outputs": [],
   "source": [
    "%load_ext autoreload\n",
    "%autoreload 2"
   ]
  },
  {
   "cell_type": "code",
   "execution_count": 2,
   "id": "9f31d8bb",
   "metadata": {},
   "outputs": [],
   "source": [
    "import os, sys\n",
    "sys.path.append(\"..\")"
   ]
  },
  {
   "cell_type": "markdown",
   "id": "f375bc3e",
   "metadata": {},
   "source": [
    "# Discharge Summary\n",
    "## Overview\n",
    "When the patient visited the emergency room, there was a great deal of uncertainty in the diagnosis. However, by the time the patient is discharged, it should have become clearer whether the patient had pneumonia.\n",
    "\n",
    "The primary logic for discharge summaries is quite simple. Beneath this diagram is the set of sections used for classification.\n",
    "![Discharge classification](./Discharge.png)"
   ]
  },
  {
   "cell_type": "code",
   "execution_count": 3,
   "id": "d84fb30e",
   "metadata": {},
   "outputs": [],
   "source": [
    "from medspacy_pna.document_classification.discharge_document_classifier import (\n",
    "    RELEVANT_SECTIONS, TIER_1_SECTIONS, TIER_2_SECTIONS\n",
    ")"
   ]
  },
  {
   "cell_type": "markdown",
   "id": "c6b789b9",
   "metadata": {},
   "source": [
    "The default schema will consider assertions of pneumonia from the **\"Diagnosis\"** or **\"Hospital Course\"** sections."
   ]
  },
  {
   "cell_type": "code",
   "execution_count": 4,
   "id": "daf5cfd6",
   "metadata": {},
   "outputs": [
    {
     "name": "stdout",
     "output_type": "stream",
     "text": [
      "{'diagnoses', 'hospital_course', 'discharge_diagnoses'}\n"
     ]
    }
   ],
   "source": [
    "print(RELEVANT_SECTIONS)"
   ]
  },
  {
   "cell_type": "markdown",
   "id": "18ca6d6b",
   "metadata": {},
   "source": [
    "However, the hospital course will also include information about the initial diagnosis made in the DR. While the NLP will attempt to exclude initial diagnoses, an alternate classification schema ignores the hospital course and achieves higher precision (but lower recall)."
   ]
  },
  {
   "cell_type": "code",
   "execution_count": 5,
   "id": "e8a4b18b",
   "metadata": {},
   "outputs": [],
   "source": [
    "from medspacy_pna import build_nlp\n",
    "from medspacy_pna.display import create_html\n",
    "from medspacy.visualization import visualize_ent\n",
    "from IPython.display import HTML"
   ]
  },
  {
   "cell_type": "code",
   "execution_count": 6,
   "id": "bf344ab3",
   "metadata": {},
   "outputs": [],
   "source": [
    "%%capture\n",
    "nlp_discharge = build_nlp(\"discharge\")"
   ]
  },
  {
   "cell_type": "code",
   "execution_count": 7,
   "id": "6ad1b3c1",
   "metadata": {},
   "outputs": [
    {
     "data": {
      "text/plain": [
       "['tok2vec',\n",
       " 'tagger',\n",
       " 'parser',\n",
       " 'medspacy_concept_tagger',\n",
       " 'medspacy_target_matcher',\n",
       " 'medspacy_context',\n",
       " 'medspacy_sectionizer',\n",
       " 'medspacy_postprocessor',\n",
       " 'pneumonia_dischargedocumentclassifier']"
      ]
     },
     "execution_count": 7,
     "metadata": {},
     "output_type": "execute_result"
    }
   ],
   "source": [
    "nlp_discharge.pipe_names"
   ]
  },
  {
   "cell_type": "markdown",
   "id": "705f9993",
   "metadata": {},
   "source": [
    "## Example 1: Positive"
   ]
  },
  {
   "cell_type": "code",
   "execution_count": 8,
   "id": "f2822af8",
   "metadata": {},
   "outputs": [],
   "source": [
    "text = \"\"\"\n",
    "Final Diagnosis:\n",
    "1. Pneumonia\n",
    "2. Afib\n",
    "\"\"\"\n",
    "doc = nlp_discharge(text)"
   ]
  },
  {
   "cell_type": "code",
   "execution_count": 9,
   "id": "34fe5d22",
   "metadata": {},
   "outputs": [
    {
     "data": {
      "text/html": [
       "<h1>Legend</h1>\n",
       "<mark class=\"entity\" style=\"background: #ff8c8c; padding: 0.25em 0.6em; margin: 0 0.25em; line-height: 1.5; border-radius: 0.35em;\">\n",
       "    \n",
       "<span style=\"font-size: 1.0em; font-weight: bold; line-height: 2.5; border-radius: 0.35em; vertical-align: middle; margin-left: 0.5rem\">Pneumonia</span>\n",
       "</mark>\n",
       "\n",
       "<mark class=\"entity\" style=\"background: #e3dede; padding: 0.25em 0.6em; margin: 0 0.25em; line-height: 1.5; border-radius: 0.35em;\">\n",
       "    \n",
       "<span style=\"font-size: 1.0em; font-weight: bold; line-height: 2.5; border-radius: 0.35em; vertical-align: middle; margin-left: 0.5rem\">Assertion Modifier</span>\n",
       "</mark>\n",
       "\n",
       "<mark class=\"entity\" style=\"background: #96eaf2; padding: 0.25em 0.6em; margin: 0 0.25em; line-height: 1.5; border-radius: 0.35em;\">\n",
       "    \n",
       "<span style=\"font-size: 1.0em; font-weight: bold; line-height: 2.5; border-radius: 0.35em; vertical-align: middle; margin-left: 0.5rem\">Primary Section Title</span>\n",
       "</mark>\n",
       "\n",
       "<mark class=\"entity\" style=\"background: #c8fae4; padding: 0.25em 0.6em; margin: 0 0.25em; line-height: 1.5; border-radius: 0.35em;\">\n",
       "    \n",
       "<span style=\"font-size: 1.0em; font-weight: bold; line-height: 2.5; border-radius: 0.35em; vertical-align: middle; margin-left: 0.5rem\">Other Section Title</span>\n",
       "</mark>\n",
       "</br><h1>Discharge Summary</h1><h2>NLP Document Classification: POS</h2><div class=\"entities\" style=\"line-height: 1.25; direction: ltr\"></br>\n",
       "<mark class=\"entity\" style=\"background: #96eaf2; padding: 0.25em 0.6em; margin: 0 0.25em; line-height: 1.5; border-radius: 0.35em;\">\n",
       "    Final Diagnosis:\n",
       "    <span style=\"font-size: 0.8em; font-weight: bold; line-height: 2.5; border-radius: 0.35em; vertical-align: middle; margin-left: 0.5rem\"><< DISCHARGE_DIAGNOSES >></span>\n",
       "</mark>\n",
       "</br>1. \n",
       "<mark class=\"entity\" style=\"background: #ff8c8c; padding: 0.25em 0.6em; margin: 0 0.25em; line-height: 1.5; border-radius: 0.35em;\">\n",
       "    Pneumonia\n",
       "    <span style=\"font-size: 0.8em; font-weight: bold; line-height: 2.5; border-radius: 0.35em; vertical-align: middle; margin-left: 0.5rem\">PNEUMONIA</span>\n",
       "</mark>\n",
       "</br>2. Afib</br></div>"
      ],
      "text/plain": [
       "<IPython.core.display.HTML object>"
      ]
     },
     "execution_count": 9,
     "metadata": {},
     "output_type": "execute_result"
    }
   ],
   "source": [
    "HTML(create_html(doc, \"discharge\", document_classification=True))"
   ]
  },
  {
   "cell_type": "code",
   "execution_count": 10,
   "id": "ef6c4614",
   "metadata": {},
   "outputs": [
    {
     "name": "stdout",
     "output_type": "stream",
     "text": [
      "Pneumonia PNEUMONIA discharge_diagnoses\n"
     ]
    }
   ],
   "source": [
    "for ent in doc.ents:\n",
    "    print(ent, ent.label_, ent._.section_category)"
   ]
  },
  {
   "cell_type": "code",
   "execution_count": 11,
   "id": "a7caf321",
   "metadata": {},
   "outputs": [
    {
     "name": "stdout",
     "output_type": "stream",
     "text": [
      "POS\n"
     ]
    }
   ],
   "source": [
    "print(doc._.document_classification)"
   ]
  },
  {
   "cell_type": "markdown",
   "id": "d3f909bb",
   "metadata": {},
   "source": [
    "## Example 2: Negative "
   ]
  },
  {
   "cell_type": "code",
   "execution_count": 12,
   "id": "fa838e48",
   "metadata": {},
   "outputs": [],
   "source": [
    "text = \"\"\"\n",
    "Hospital Course: Initially the diagnosis included pneumonia but chest imaging\n",
    "ruled out pna.\n",
    "\"\"\"\n",
    "doc = nlp_discharge(text)"
   ]
  },
  {
   "cell_type": "code",
   "execution_count": 13,
   "id": "bba54f61",
   "metadata": {},
   "outputs": [
    {
     "data": {
      "text/html": [
       "<h1>Legend</h1>\n",
       "<mark class=\"entity\" style=\"background: #ff8c8c; padding: 0.25em 0.6em; margin: 0 0.25em; line-height: 1.5; border-radius: 0.35em;\">\n",
       "    \n",
       "<span style=\"font-size: 1.0em; font-weight: bold; line-height: 2.5; border-radius: 0.35em; vertical-align: middle; margin-left: 0.5rem\">Pneumonia</span>\n",
       "</mark>\n",
       "\n",
       "<mark class=\"entity\" style=\"background: #e3dede; padding: 0.25em 0.6em; margin: 0 0.25em; line-height: 1.5; border-radius: 0.35em;\">\n",
       "    \n",
       "<span style=\"font-size: 1.0em; font-weight: bold; line-height: 2.5; border-radius: 0.35em; vertical-align: middle; margin-left: 0.5rem\">Assertion Modifier</span>\n",
       "</mark>\n",
       "\n",
       "<mark class=\"entity\" style=\"background: #96eaf2; padding: 0.25em 0.6em; margin: 0 0.25em; line-height: 1.5; border-radius: 0.35em;\">\n",
       "    \n",
       "<span style=\"font-size: 1.0em; font-weight: bold; line-height: 2.5; border-radius: 0.35em; vertical-align: middle; margin-left: 0.5rem\">Primary Section Title</span>\n",
       "</mark>\n",
       "\n",
       "<mark class=\"entity\" style=\"background: #c8fae4; padding: 0.25em 0.6em; margin: 0 0.25em; line-height: 1.5; border-radius: 0.35em;\">\n",
       "    \n",
       "<span style=\"font-size: 1.0em; font-weight: bold; line-height: 2.5; border-radius: 0.35em; vertical-align: middle; margin-left: 0.5rem\">Other Section Title</span>\n",
       "</mark>\n",
       "</br><h1>Discharge Summary</h1><h2>NLP Document Classification: NEG</h2><div class=\"entities\" style=\"line-height: 1.25; direction: ltr\">\n",
       "<mark class=\"entity\" style=\"background: #96eaf2; padding: 0.25em 0.6em; margin: 0 0.25em; line-height: 1.5; border-radius: 0.35em;\">\n",
       "    \n",
       "Hospital Course\n",
       "    <span style=\"font-size: 0.8em; font-weight: bold; line-height: 2.5; border-radius: 0.35em; vertical-align: middle; margin-left: 0.5rem\"><< HOSPITAL_COURSE >></span>\n",
       "</mark>\n",
       ": \n",
       "<mark class=\"entity\" style=\"background: #e3dede; padding: 0.25em 0.6em; margin: 0 0.25em; line-height: 1.5; border-radius: 0.35em;\">\n",
       "    Initially\n",
       "    <span style=\"font-size: 0.8em; font-weight: bold; line-height: 2.5; border-radius: 0.35em; vertical-align: middle; margin-left: 0.5rem\">HISTORICAL</span>\n",
       "</mark>\n",
       " the diagnosis included \n",
       "<mark class=\"entity\" style=\"background: #ff8c8c; padding: 0.25em 0.6em; margin: 0 0.25em; line-height: 1.5; border-radius: 0.35em;\">\n",
       "    pneumonia\n",
       "    <span style=\"font-size: 0.8em; font-weight: bold; line-height: 2.5; border-radius: 0.35em; vertical-align: middle; margin-left: 0.5rem\">PNEUMONIA</span>\n",
       "</mark>\n",
       " but chest imaging</br>\n",
       "<mark class=\"entity\" style=\"background: #e3dede; padding: 0.25em 0.6em; margin: 0 0.25em; line-height: 1.5; border-radius: 0.35em;\">\n",
       "    ruled out\n",
       "    <span style=\"font-size: 0.8em; font-weight: bold; line-height: 2.5; border-radius: 0.35em; vertical-align: middle; margin-left: 0.5rem\">NEGATED_EXISTENCE</span>\n",
       "</mark>\n",
       " \n",
       "<mark class=\"entity\" style=\"background: #ff8c8c; padding: 0.25em 0.6em; margin: 0 0.25em; line-height: 1.5; border-radius: 0.35em;\">\n",
       "    pna\n",
       "    <span style=\"font-size: 0.8em; font-weight: bold; line-height: 2.5; border-radius: 0.35em; vertical-align: middle; margin-left: 0.5rem\">PNEUMONIA</span>\n",
       "</mark>\n",
       ".</br></div>"
      ],
      "text/plain": [
       "<IPython.core.display.HTML object>"
      ]
     },
     "execution_count": 13,
     "metadata": {},
     "output_type": "execute_result"
    }
   ],
   "source": [
    "HTML(create_html(doc, \"discharge\", document_classification=True))"
   ]
  },
  {
   "cell_type": "code",
   "execution_count": 14,
   "id": "34be0dab",
   "metadata": {},
   "outputs": [
    {
     "name": "stdout",
     "output_type": "stream",
     "text": [
      "pneumonia PNEUMONIA hospital_course\n",
      "pna PNEUMONIA hospital_course\n"
     ]
    }
   ],
   "source": [
    "for ent in doc.ents:\n",
    "    print(ent, ent.label_, ent._.section_category)"
   ]
  },
  {
   "cell_type": "code",
   "execution_count": 15,
   "id": "1f56dc69",
   "metadata": {},
   "outputs": [
    {
     "name": "stdout",
     "output_type": "stream",
     "text": [
      "NEG\n"
     ]
    }
   ],
   "source": [
    "print(doc._.document_classification)"
   ]
  },
  {
   "cell_type": "code",
   "execution_count": null,
   "id": "32c3e160",
   "metadata": {},
   "outputs": [],
   "source": []
  },
  {
   "cell_type": "markdown",
   "id": "6cc097f0",
   "metadata": {},
   "source": [
    "## Example 3: False positive in Hospital Course\n",
    "In this example, the hospital course includes information about an earlier diagnosis that was later discarded. However, this will be classified as **\"Positive\"** by the NLP."
   ]
  },
  {
   "cell_type": "code",
   "execution_count": 16,
   "id": "4b30158f",
   "metadata": {},
   "outputs": [],
   "source": [
    "text = \"\"\"\n",
    "Hospital Course: Patient was admitted and treated for pneumonia. However, \n",
    "chest imaging was negative and patient was found to have CHF.\n",
    "\n",
    "Final diagnosis: CHF\n",
    "\"\"\"\n",
    "doc = nlp_discharge(text)"
   ]
  },
  {
   "cell_type": "code",
   "execution_count": 17,
   "id": "f186e451",
   "metadata": {},
   "outputs": [
    {
     "data": {
      "text/html": [
       "<h1>Legend</h1>\n",
       "<mark class=\"entity\" style=\"background: #ff8c8c; padding: 0.25em 0.6em; margin: 0 0.25em; line-height: 1.5; border-radius: 0.35em;\">\n",
       "    \n",
       "<span style=\"font-size: 1.0em; font-weight: bold; line-height: 2.5; border-radius: 0.35em; vertical-align: middle; margin-left: 0.5rem\">Pneumonia</span>\n",
       "</mark>\n",
       "\n",
       "<mark class=\"entity\" style=\"background: #e3dede; padding: 0.25em 0.6em; margin: 0 0.25em; line-height: 1.5; border-radius: 0.35em;\">\n",
       "    \n",
       "<span style=\"font-size: 1.0em; font-weight: bold; line-height: 2.5; border-radius: 0.35em; vertical-align: middle; margin-left: 0.5rem\">Assertion Modifier</span>\n",
       "</mark>\n",
       "\n",
       "<mark class=\"entity\" style=\"background: #96eaf2; padding: 0.25em 0.6em; margin: 0 0.25em; line-height: 1.5; border-radius: 0.35em;\">\n",
       "    \n",
       "<span style=\"font-size: 1.0em; font-weight: bold; line-height: 2.5; border-radius: 0.35em; vertical-align: middle; margin-left: 0.5rem\">Primary Section Title</span>\n",
       "</mark>\n",
       "\n",
       "<mark class=\"entity\" style=\"background: #c8fae4; padding: 0.25em 0.6em; margin: 0 0.25em; line-height: 1.5; border-radius: 0.35em;\">\n",
       "    \n",
       "<span style=\"font-size: 1.0em; font-weight: bold; line-height: 2.5; border-radius: 0.35em; vertical-align: middle; margin-left: 0.5rem\">Other Section Title</span>\n",
       "</mark>\n",
       "</br><h1>Discharge Summary</h1><h2>NLP Document Classification: POS</h2><div class=\"entities\" style=\"line-height: 1.25; direction: ltr\">\n",
       "<mark class=\"entity\" style=\"background: #96eaf2; padding: 0.25em 0.6em; margin: 0 0.25em; line-height: 1.5; border-radius: 0.35em;\">\n",
       "    \n",
       "Hospital Course\n",
       "    <span style=\"font-size: 0.8em; font-weight: bold; line-height: 2.5; border-radius: 0.35em; vertical-align: middle; margin-left: 0.5rem\"><< HOSPITAL_COURSE >></span>\n",
       "</mark>\n",
       ": Patient was admitted and treated for \n",
       "<mark class=\"entity\" style=\"background: #ff8c8c; padding: 0.25em 0.6em; margin: 0 0.25em; line-height: 1.5; border-radius: 0.35em;\">\n",
       "    pneumonia\n",
       "    <span style=\"font-size: 0.8em; font-weight: bold; line-height: 2.5; border-radius: 0.35em; vertical-align: middle; margin-left: 0.5rem\">PNEUMONIA</span>\n",
       "</mark>\n",
       ". However, </br>chest imaging was negative and patient was found to have CHF.</br></br>\n",
       "<mark class=\"entity\" style=\"background: #96eaf2; padding: 0.25em 0.6em; margin: 0 0.25em; line-height: 1.5; border-radius: 0.35em;\">\n",
       "    Final diagnosis:\n",
       "    <span style=\"font-size: 0.8em; font-weight: bold; line-height: 2.5; border-radius: 0.35em; vertical-align: middle; margin-left: 0.5rem\"><< DISCHARGE_DIAGNOSES >></span>\n",
       "</mark>\n",
       " CHF</br></div>"
      ],
      "text/plain": [
       "<IPython.core.display.HTML object>"
      ]
     },
     "execution_count": 17,
     "metadata": {},
     "output_type": "execute_result"
    }
   ],
   "source": [
    "HTML(create_html(doc, \"discharge\", document_classification=True))"
   ]
  },
  {
   "cell_type": "code",
   "execution_count": 18,
   "id": "e9538ae6",
   "metadata": {},
   "outputs": [
    {
     "name": "stdout",
     "output_type": "stream",
     "text": [
      "pneumonia PNEUMONIA hospital_course\n"
     ]
    }
   ],
   "source": [
    "for ent in doc.ents:\n",
    "    print(ent, ent.label_, ent._.section_category)"
   ]
  },
  {
   "cell_type": "code",
   "execution_count": 19,
   "id": "2dc55b3d",
   "metadata": {},
   "outputs": [
    {
     "name": "stdout",
     "output_type": "stream",
     "text": [
      "POS\n"
     ]
    }
   ],
   "source": [
    "print(doc._.document_classification)"
   ]
  },
  {
   "cell_type": "markdown",
   "id": "ba1f4da9",
   "metadata": {},
   "source": [
    "This false positive can be avoided by using the **\"diagnoses\"** schema which will not included the hospital course section:"
   ]
  },
  {
   "cell_type": "code",
   "execution_count": 20,
   "id": "4f439665",
   "metadata": {},
   "outputs": [],
   "source": [
    "clf = nlp_discharge.get_pipe(\"pneumonia_dischargedocumentclassifier\")"
   ]
  },
  {
   "cell_type": "code",
   "execution_count": 21,
   "id": "b6229752",
   "metadata": {},
   "outputs": [
    {
     "data": {
      "text/plain": [
       "'NEG'"
      ]
     },
     "execution_count": 21,
     "metadata": {},
     "output_type": "execute_result"
    }
   ],
   "source": [
    "doc2 = nlp_discharge(text, disable=[\"pneumonia_dischargedocumentclassifier\"])\n",
    "clf.classify_document(doc2, classification_schema=\"diagnoses\")"
   ]
  },
  {
   "cell_type": "code",
   "execution_count": null,
   "id": "a972dace",
   "metadata": {},
   "outputs": [],
   "source": []
  },
  {
   "cell_type": "code",
   "execution_count": null,
   "id": "86d33b22",
   "metadata": {},
   "outputs": [],
   "source": []
  },
  {
   "cell_type": "markdown",
   "id": "51c44a66",
   "metadata": {},
   "source": [
    "## Example 5: Positive only in hospital course\n",
    "However, ignoring the hospital course will cause false negatives, such as in the example below. We found the tradeoff between precision and recall to be pretty much identical, so it just depends on which metric you care more about. You may also be able to stick to a more precise definition of pneumonia by ignoring the hospital course and then add diagnosis codes to try and improve recall."
   ]
  },
  {
   "cell_type": "code",
   "execution_count": 22,
   "id": "eaef3fc0",
   "metadata": {},
   "outputs": [],
   "source": [
    "text = \"\"\"\n",
    "Hospital Course: Patient tested positive for Covid-19. \n",
    "He was admitted and treated for pneumonia.\n",
    "\n",
    "Final diagnosis: Covid-19\n",
    "\"\"\"\n",
    "doc = nlp_discharge(text)"
   ]
  },
  {
   "cell_type": "code",
   "execution_count": 23,
   "id": "df1fd93b",
   "metadata": {},
   "outputs": [
    {
     "data": {
      "text/html": [
       "<h1>Legend</h1>\n",
       "<mark class=\"entity\" style=\"background: #ff8c8c; padding: 0.25em 0.6em; margin: 0 0.25em; line-height: 1.5; border-radius: 0.35em;\">\n",
       "    \n",
       "<span style=\"font-size: 1.0em; font-weight: bold; line-height: 2.5; border-radius: 0.35em; vertical-align: middle; margin-left: 0.5rem\">Pneumonia</span>\n",
       "</mark>\n",
       "\n",
       "<mark class=\"entity\" style=\"background: #e3dede; padding: 0.25em 0.6em; margin: 0 0.25em; line-height: 1.5; border-radius: 0.35em;\">\n",
       "    \n",
       "<span style=\"font-size: 1.0em; font-weight: bold; line-height: 2.5; border-radius: 0.35em; vertical-align: middle; margin-left: 0.5rem\">Assertion Modifier</span>\n",
       "</mark>\n",
       "\n",
       "<mark class=\"entity\" style=\"background: #96eaf2; padding: 0.25em 0.6em; margin: 0 0.25em; line-height: 1.5; border-radius: 0.35em;\">\n",
       "    \n",
       "<span style=\"font-size: 1.0em; font-weight: bold; line-height: 2.5; border-radius: 0.35em; vertical-align: middle; margin-left: 0.5rem\">Primary Section Title</span>\n",
       "</mark>\n",
       "\n",
       "<mark class=\"entity\" style=\"background: #c8fae4; padding: 0.25em 0.6em; margin: 0 0.25em; line-height: 1.5; border-radius: 0.35em;\">\n",
       "    \n",
       "<span style=\"font-size: 1.0em; font-weight: bold; line-height: 2.5; border-radius: 0.35em; vertical-align: middle; margin-left: 0.5rem\">Other Section Title</span>\n",
       "</mark>\n",
       "</br><h1>Discharge Summary</h1><h2>NLP Document Classification: POS</h2><div class=\"entities\" style=\"line-height: 1.25; direction: ltr\">\n",
       "<mark class=\"entity\" style=\"background: #96eaf2; padding: 0.25em 0.6em; margin: 0 0.25em; line-height: 1.5; border-radius: 0.35em;\">\n",
       "    \n",
       "Hospital Course\n",
       "    <span style=\"font-size: 0.8em; font-weight: bold; line-height: 2.5; border-radius: 0.35em; vertical-align: middle; margin-left: 0.5rem\"><< HOSPITAL_COURSE >></span>\n",
       "</mark>\n",
       ": Patient tested positive for Covid-19. </br>He was admitted and treated for \n",
       "<mark class=\"entity\" style=\"background: #ff8c8c; padding: 0.25em 0.6em; margin: 0 0.25em; line-height: 1.5; border-radius: 0.35em;\">\n",
       "    pneumonia\n",
       "    <span style=\"font-size: 0.8em; font-weight: bold; line-height: 2.5; border-radius: 0.35em; vertical-align: middle; margin-left: 0.5rem\">PNEUMONIA</span>\n",
       "</mark>\n",
       ".</br></br>\n",
       "<mark class=\"entity\" style=\"background: #96eaf2; padding: 0.25em 0.6em; margin: 0 0.25em; line-height: 1.5; border-radius: 0.35em;\">\n",
       "    Final diagnosis:\n",
       "    <span style=\"font-size: 0.8em; font-weight: bold; line-height: 2.5; border-radius: 0.35em; vertical-align: middle; margin-left: 0.5rem\"><< DISCHARGE_DIAGNOSES >></span>\n",
       "</mark>\n",
       " Covid-19</br></div>"
      ],
      "text/plain": [
       "<IPython.core.display.HTML object>"
      ]
     },
     "execution_count": 23,
     "metadata": {},
     "output_type": "execute_result"
    }
   ],
   "source": [
    "HTML(create_html(doc, \"discharge\", document_classification=True))"
   ]
  },
  {
   "cell_type": "code",
   "execution_count": 24,
   "id": "e7ba39a6",
   "metadata": {},
   "outputs": [
    {
     "name": "stdout",
     "output_type": "stream",
     "text": [
      "pneumonia PNEUMONIA hospital_course\n"
     ]
    }
   ],
   "source": [
    "for ent in doc.ents:\n",
    "    print(ent, ent.label_, ent._.section_category)"
   ]
  },
  {
   "cell_type": "code",
   "execution_count": 25,
   "id": "66683665",
   "metadata": {},
   "outputs": [
    {
     "data": {
      "text/plain": [
       "'NEG'"
      ]
     },
     "execution_count": 25,
     "metadata": {},
     "output_type": "execute_result"
    }
   ],
   "source": [
    "doc2 = nlp_discharge(text, disable=[\"pneumonia_dischargedocumentclassifier\"])\n",
    "clf.classify_document(doc2, classification_schema=\"diagnoses\")"
   ]
  },
  {
   "cell_type": "code",
   "execution_count": null,
   "id": "9f415cd7",
   "metadata": {},
   "outputs": [],
   "source": []
  }
 ],
 "metadata": {
  "kernelspec": {
   "display_name": "Python 3 (ipykernel)",
   "language": "python",
   "name": "python3"
  },
  "language_info": {
   "codemirror_mode": {
    "name": "ipython",
    "version": 3
   },
   "file_extension": ".py",
   "mimetype": "text/x-python",
   "name": "python",
   "nbconvert_exporter": "python",
   "pygments_lexer": "ipython3",
   "version": "3.8.13"
  }
 },
 "nbformat": 4,
 "nbformat_minor": 5
}
