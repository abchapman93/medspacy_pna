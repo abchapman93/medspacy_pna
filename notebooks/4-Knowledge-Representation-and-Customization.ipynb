{
 "cells": [
  {
   "cell_type": "code",
   "execution_count": 1,
   "id": "0f8b7c9a",
   "metadata": {},
   "outputs": [],
   "source": [
    "%load_ext autoreload\n",
    "%autoreload 2"
   ]
  },
  {
   "cell_type": "code",
   "execution_count": 2,
   "id": "9f31d8bb",
   "metadata": {},
   "outputs": [],
   "source": [
    "import os, sys, glob\n",
    "sys.path.append(\"..\")"
   ]
  },
  {
   "cell_type": "markdown",
   "id": "e7c506cb",
   "metadata": {},
   "source": [
    "# Knowledge Representation and Customization\n",
    "## Overview\n",
    "In order to process multiple types of clinical notes, we designed this pneumonia NLP to be flexible and easily modifiable. Additionally, we wanted our system to be generalizable to be used in multiple healthcare institutions (first in VA, then University of Utah). This notebook will go over how knowledge is represented in this pipeline and how additional resources can be added to adapt to a new institution."
   ]
  },
  {
   "cell_type": "code",
   "execution_count": 3,
   "id": "de3f9a44",
   "metadata": {},
   "outputs": [],
   "source": [
    "from medspacy_pna import build_nlp\n",
    "from medspacy_pna.display import create_html\n",
    "from medspacy.visualization import visualize_ent, visualize_dep\n",
    "from IPython.display import HTML\n",
    "import json"
   ]
  },
  {
   "cell_type": "code",
   "execution_count": 4,
   "id": "efb3c486",
   "metadata": {},
   "outputs": [],
   "source": [
    "RESOURCES_DIR = \"../medspacy_pna/resources/\""
   ]
  },
  {
   "cell_type": "markdown",
   "id": "910b4ffb",
   "metadata": {},
   "source": [
    "The `build_nlp` function takes a domain name and loads a set of default rules. The rules can be found in each of the relevant components. Let's print the first rule in each component:"
   ]
  },
  {
   "cell_type": "code",
   "execution_count": 5,
   "id": "bf344ab3",
   "metadata": {},
   "outputs": [],
   "source": [
    "%%capture\n",
    "nlp_emergency = build_nlp(\"emergency\")"
   ]
  },
  {
   "cell_type": "code",
   "execution_count": 6,
   "id": "3c010802",
   "metadata": {},
   "outputs": [
    {
     "name": "stdout",
     "output_type": "stream",
     "text": [
      "medspacy_concept_tagger\n",
      "TargetRule(literal=\"pneumonia\", category=\"PNEUMONIA\", pattern=pneumonias?|pna, attributes=None, on_match=None)\n",
      "\n",
      "medspacy_target_matcher\n",
      "TargetRule(literal=\"pneumonia\", category=\"PNEUMONIA\", pattern=[{'_': {'concept_tag': {'IN': ['FOCAL', 'INFILTRATE', 'COVID']}}, 'OP': '*'}, {'_': {'concept_tag': 'PNEUMONIA'}, 'OP': '+'}], attributes=None, on_match=None)\n",
      "\n",
      "medspacy_context\n",
      "ConTextRule(literal='absence of', category='NEGATED_EXISTENCE', pattern=None, direction='FORWARD')\n",
      "\n",
      "medspacy_sectionizer\n",
      "SectionRule(literal=\"ADDENDUM:\", category=\"addendum\", pattern=None, on_match=None, parents=[], parent_required=False)\n",
      "\n",
      "medspacy_postprocessor\n",
      "PostprocessingRule: None - Disambiguate between 'impression' meaning imaging and A/P\n",
      "\n"
     ]
    }
   ],
   "source": [
    "for name, pipe in nlp_emergency.pipeline:\n",
    "    if \"medspacy\" in name:\n",
    "        print(name)\n",
    "        print(pipe.rules[0])\n",
    "        print()"
   ]
  },
  {
   "cell_type": "markdown",
   "id": "cf4f3d21",
   "metadata": {},
   "source": [
    "The rules for each pipeline are stored under:\n",
    "```\n",
    "- medspacy_pna/resources\n",
    "    - clinical/\n",
    "        - *.json\n",
    "        - ... \n",
    "    - common/\n",
    "    - configs/\n",
    "    - discharge/\n",
    "    - emergency/\n",
    "    - radiology/\n",
    "```\n",
    "\n",
    "Most rules are stored and read in as JSON files (with the exception of PostprocessingRules, which are stored as Python modules and imported directly). The `discharge`, `emergency`, and `radiology` subdirectories contain rules which are specific to each of these note types. The `common` rules are used in all 3 pipelines, while `clinical` rules are used in emergency and discharge notes but not radiology.\n",
    "\n",
    "The files under `config` specify the filepaths containing rules for each component in each different pipeline:"
   ]
  },
  {
   "cell_type": "code",
   "execution_count": 7,
   "id": "b54cbee9",
   "metadata": {
    "scrolled": true
   },
   "outputs": [
    {
     "name": "stdout",
     "output_type": "stream",
     "text": [
      "['../medspacy_pna/resources/configs\\\\discharge.json', '../medspacy_pna/resources/configs\\\\emergency.json', '../medspacy_pna/resources/configs\\\\radiology.json']\n"
     ]
    }
   ],
   "source": [
    "resource_fps = glob.glob(os.path.join(RESOURCES_DIR, \"configs\", \"*.json\"))\n",
    "print(resource_fps)"
   ]
  },
  {
   "cell_type": "code",
   "execution_count": 8,
   "id": "ee626ecb",
   "metadata": {},
   "outputs": [
    {
     "data": {
      "text/plain": [
       "{'domain': 'discharge',\n",
       " 'resources': [{'concept_tagger': ['common/anatomy_concept_tag_rules.json',\n",
       "    'common/concept_tag_rules.json'],\n",
       "   'target_matcher': ['common/target_rules.json',\n",
       "    'emergency/emergency_target_rules.json',\n",
       "    'discharge/discharge_target_rules.json'],\n",
       "   'context': ['common/context_rules.json',\n",
       "    'discharge/discharge_context_rules.json',\n",
       "    'clinical/clinical_context_rules.json',\n",
       "    'common/anatomy_descriptor_modifier_rules.json'],\n",
       "   'sectionizer': ['clinical/clinical_section_rules.json',\n",
       "    'discharge/discharge_section_rules.json']}]}"
      ]
     },
     "execution_count": 8,
     "metadata": {},
     "output_type": "execute_result"
    }
   ],
   "source": [
    "with open(resource_fps[0]) as f:\n",
    "    config = json.load(f)\n",
    "config"
   ]
  },
  {
   "cell_type": "code",
   "execution_count": 9,
   "id": "1865e2e8",
   "metadata": {
    "scrolled": true
   },
   "outputs": [
    {
     "name": "stdout",
     "output_type": "stream",
     "text": [
      "{\n",
      "    \"section_rules\": [\n",
      "        {\n",
      "            \"parents\": [],\n",
      "            \"category\": \"addendum\",\n",
      "            \"parent_required\": false,\n",
      "            \"literal\": \"ADDENDUM:\"\n",
      "        },\n",
      "        {\n",
      "            \"parents\": [],\n",
      "            \"category\": \"addendum\",\n",
      "            \"parent_required\": false,\n",
      "            \"literal\": \"Addendum:\"\n",
      "        },\n",
      "       {\n",
      "            \"parents\": [],\n",
      "            \"category\": \"addendum\",\n",
      "            \"parent_required\": false,\n",
      "            \"literal\": \"<<ADDENDUM>>:\",\n",
      "        \"me\n"
     ]
    }
   ],
   "source": [
    "with open(os.path.join(RESOURCES_DIR, config[\"resources\"][0][\"sectionizer\"][0])) as f:\n",
    "    print(f.read(500))"
   ]
  },
  {
   "cell_type": "code",
   "execution_count": null,
   "id": "f906d7e6",
   "metadata": {},
   "outputs": [],
   "source": []
  },
  {
   "cell_type": "markdown",
   "id": "db2bf9cb",
   "metadata": {},
   "source": [
    "## Customizing\n",
    "When moving to a different institution, you may encounter different structures of notes and documentation styles. By adding additional rules you can adapt to these differences while also leveraging the rules and logic implemented in the default system.\n",
    "\n",
    "The code below adds resources specific to University of Utah which are included under `resources/utah_resources`. These additional rules consist mainly of new section rules to fit University of Utah's Epic EHR. New rules could be added by imitating this structure and addig them as below."
   ]
  },
  {
   "cell_type": "code",
   "execution_count": 10,
   "id": "fbbb6de4",
   "metadata": {},
   "outputs": [],
   "source": [
    "from medspacy_pna.util import add_additional_resources"
   ]
  },
  {
   "cell_type": "code",
   "execution_count": 11,
   "id": "3b70b679",
   "metadata": {},
   "outputs": [],
   "source": [
    "utah_resources_dir = os.path.join(RESOURCES_DIR, \"utah_resources\")"
   ]
  },
  {
   "cell_type": "code",
   "execution_count": 12,
   "id": "a3e4f4d5",
   "metadata": {},
   "outputs": [
    {
     "name": "stdout",
     "output_type": "stream",
     "text": [
      "225\n",
      "SectionRule(literal=\"REASON FOR ADMISSION (H&P):\", category=\"history_of_present_illness\", pattern=None, on_match=None, parents=[], parent_required=False)\n"
     ]
    }
   ],
   "source": [
    "sectionizer = nlp_emergency.get_pipe(\"medspacy_sectionizer\")\n",
    "print(len(sectionizer.rules))\n",
    "print(sectionizer.rules[-1])"
   ]
  },
  {
   "cell_type": "code",
   "execution_count": 13,
   "id": "6647b032",
   "metadata": {
    "scrolled": true
   },
   "outputs": [],
   "source": [
    "%%capture\n",
    "add_additional_resources(nlp_emergency, domain=\"emergency\", \n",
    "                         resources_dir=utah_resources_dir)"
   ]
  },
  {
   "cell_type": "code",
   "execution_count": 14,
   "id": "1cc1f6ef",
   "metadata": {},
   "outputs": [
    {
     "name": "stdout",
     "output_type": "stream",
     "text": [
      "246\n",
      "[SectionRule(literal=\"Resolved problems:\", category=\"diagnoses\", pattern=None, on_match=None, parents=['discharge_diagnoses'], parent_required=False)]\n"
     ]
    }
   ],
   "source": [
    "print(len(sectionizer.rules))\n",
    "print(sectionizer.rules[-1:])"
   ]
  },
  {
   "cell_type": "code",
   "execution_count": null,
   "id": "ee7f72bd",
   "metadata": {},
   "outputs": [],
   "source": [
    " "
   ]
  }
 ],
 "metadata": {
  "kernelspec": {
   "display_name": "Python 3 (ipykernel)",
   "language": "python",
   "name": "python3"
  },
  "language_info": {
   "codemirror_mode": {
    "name": "ipython",
    "version": 3
   },
   "file_extension": ".py",
   "mimetype": "text/x-python",
   "name": "python",
   "nbconvert_exporter": "python",
   "pygments_lexer": "ipython3",
   "version": "3.8.13"
  }
 },
 "nbformat": 4,
 "nbformat_minor": 5
}
